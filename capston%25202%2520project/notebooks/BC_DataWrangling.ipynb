{
  "nbformat": 4,
  "nbformat_minor": 5,
  "metadata": {
    "colab": {
      "name": "BC-DataWrangling.ipynb",
      "provenance": [],
      "collapsed_sections": [],
      "include_colab_link": true
    },
    "kernelspec": {
      "display_name": "Python 3",
      "language": "python",
      "name": "python3"
    },
    "language_info": {
      "codemirror_mode": {
        "name": "ipython",
        "version": 3
      },
      "file_extension": ".py",
      "mimetype": "text/x-python",
      "name": "python",
      "nbconvert_exporter": "python",
      "pygments_lexer": "ipython3",
      "version": "3.8.8"
    }
  },
  "cells": [
    {
      "cell_type": "markdown",
      "metadata": {
        "id": "view-in-github",
        "colab_type": "text"
      },
      "source": [
        "<a href=\"https://colab.research.google.com/github/nakisa84/Springboard/blob/main/capston%2525202%252520project/notebooks/BC_DataWrangling.ipynb\" target=\"_parent\"><img src=\"https://colab.research.google.com/assets/colab-badge.svg\" alt=\"Open In Colab\"/></a>"
      ]
    },
    {
      "cell_type": "markdown",
      "metadata": {
        "id": "e9a14494"
      },
      "source": [
        "# Breast Cancer Survival Prediction Data wrangling\n",
        "\n",
        "\n"
      ],
      "id": "e9a14494"
    },
    {
      "cell_type": "markdown",
      "metadata": {
        "id": "b41d68cb"
      },
      "source": [
        "In this notebook we will load, define and clean the data loaded from https://ieee-dataport.org/open-access/seer-breast-cancer-data#files"
      ],
      "id": "b41d68cb"
    },
    {
      "cell_type": "code",
      "metadata": {
        "id": "747bda98",
        "colab": {
          "base_uri": "https://localhost:8080/"
        },
        "outputId": "3024e200-c384-454e-8cf0-98d0729999d2"
      },
      "source": [
        "#import all the libraries\n",
        "import numpy as np\n",
        "import pandas as pd\n",
        "import matplotlib.pyplot as plt\n",
        "import seaborn as sns\n",
        "import statsmodels.api as sm\n",
        "\n",
        "#sklearn packages\n",
        "from sklearn import preprocessing\n",
        "from sklearn.preprocessing import OneHotEncoder\n",
        "\n",
        "#panda profiling\n",
        "#from pandas_profiling import ProfileReport\n",
        "\n",
        "from statsmodels.stats.outliers_influence import variance_inflation_factor\n",
        "\n",
        "\n",
        "#functions used in this notebook\n",
        "\n",
        "#function to get the unique values for each featur\n",
        "def get_summary(df,features):\n",
        "  for entry in features:\n",
        "      print('Summary for: \"' + entry + '\"')\n",
        "      output = pd.DataFrame({'count':df[entry].value_counts()})\n",
        "      output['%'] = round(100* (output['count']/len(df[entry])),2)\n",
        "      print(output)\n",
        "      print('\\n')\n",
        "      sns.catplot(x=entry,data=df,kind=\"count\")\n",
        "      #plt.xticks(rotation=90)\n",
        "      plt.show();\n",
        "      print('________________________________________________________________________________________________________')\n",
        "\n",
        "\n",
        "# function to calculate VIF\n",
        "def calculate_vif(data):\n",
        "    vif_df = pd.DataFrame(columns = ['Var', 'Vif'])\n",
        "    x_var_names = data.columns\n",
        "    for i in range(0, x_var_names.shape[0]):\n",
        "        y = data[x_var_names[i]]\n",
        "        x = data[x_var_names.drop([x_var_names[i]])]\n",
        "        r_squared = sm.OLS(y,x).fit().rsquared\n",
        "        vif = round(1/(1-r_squared),2)\n",
        "        vif_df.loc[i] = [x_var_names[i], vif]\n",
        "    return vif_df.sort_values(by = 'Vif', axis = 0, ascending=False, inplace=False)"
      ],
      "id": "747bda98",
      "execution_count": 1,
      "outputs": [
        {
          "output_type": "stream",
          "name": "stderr",
          "text": [
            "/usr/local/lib/python3.7/dist-packages/statsmodels/tools/_testing.py:19: FutureWarning: pandas.util.testing is deprecated. Use the functions in the public API at pandas.testing instead.\n",
            "  import pandas.util.testing as tm\n"
          ]
        }
      ]
    },
    {
      "cell_type": "code",
      "metadata": {
        "colab": {
          "base_uri": "https://localhost:8080/"
        },
        "id": "-ylBTQzTSPNZ",
        "outputId": "ff09e958-beb2-4cbc-e84b-2762b023b021"
      },
      "source": [
        "# Loading from colan environment \n",
        "from google.colab import drive\n",
        "drive.mount('/content/drive')\n",
        "!ls \"/content/drive/My Drive/Springbaord/capston 2 project/data\""
      ],
      "id": "-ylBTQzTSPNZ",
      "execution_count": 3,
      "outputs": [
        {
          "output_type": "stream",
          "name": "stdout",
          "text": [
            "Mounted at /content/drive\n",
            "ls: cannot access '/content/drive/My Drive/Springbaord/capston 2 project/data': No such file or directory\n"
          ]
        }
      ]
    },
    {
      "cell_type": "markdown",
      "metadata": {
        "id": "62b0d960"
      },
      "source": [
        "### 1-1: Data collection "
      ],
      "id": "62b0d960"
    },
    {
      "cell_type": "code",
      "metadata": {
        "id": "e55627d8"
      },
      "source": [
        "#load the dataset from colab drive\n",
        "file_name = '/content/drive/My Drive/Git/Springboard/capston 2 project/data/SEER_Breast_Cancer_Dataset.csv'\n",
        "\n",
        "#load the dataset in Jupyter\n",
        "#file_name = '../data/SEER_Breast_Cancer_Dataset.csv'\n",
        "\n",
        "df_raw = pd.read_csv(file_name)"
      ],
      "id": "e55627d8",
      "execution_count": 4,
      "outputs": []
    },
    {
      "cell_type": "code",
      "metadata": {
        "colab": {
          "base_uri": "https://localhost:8080/",
          "height": 484
        },
        "id": "a65e81b6",
        "outputId": "860f570a-7f37-4a63-fa1e-d89ab9ca7525"
      },
      "source": [
        "#display the sample of data\n",
        "df_raw.head()"
      ],
      "id": "a65e81b6",
      "execution_count": 5,
      "outputs": [
        {
          "output_type": "execute_result",
          "data": {
            "text/html": [
              "<div>\n",
              "<style scoped>\n",
              "    .dataframe tbody tr th:only-of-type {\n",
              "        vertical-align: middle;\n",
              "    }\n",
              "\n",
              "    .dataframe tbody tr th {\n",
              "        vertical-align: top;\n",
              "    }\n",
              "\n",
              "    .dataframe thead th {\n",
              "        text-align: right;\n",
              "    }\n",
              "</style>\n",
              "<table border=\"1\" class=\"dataframe\">\n",
              "  <thead>\n",
              "    <tr style=\"text-align: right;\">\n",
              "      <th></th>\n",
              "      <th>Age</th>\n",
              "      <th>Race</th>\n",
              "      <th>Marital Status</th>\n",
              "      <th>Unnamed: 3</th>\n",
              "      <th>T Stage</th>\n",
              "      <th>N Stage</th>\n",
              "      <th>6th Stage</th>\n",
              "      <th>Grade</th>\n",
              "      <th>A Stage</th>\n",
              "      <th>Tumor Size</th>\n",
              "      <th>Estrogen Status</th>\n",
              "      <th>Progesterone Status</th>\n",
              "      <th>Regional Node Examined</th>\n",
              "      <th>Reginol Node Positive</th>\n",
              "      <th>Survival Months</th>\n",
              "      <th>Status</th>\n",
              "    </tr>\n",
              "  </thead>\n",
              "  <tbody>\n",
              "    <tr>\n",
              "      <th>0</th>\n",
              "      <td>43</td>\n",
              "      <td>Other (American Indian/AK Native, Asian/Pacifi...</td>\n",
              "      <td>Married (including common law)</td>\n",
              "      <td>NaN</td>\n",
              "      <td>T2</td>\n",
              "      <td>N3</td>\n",
              "      <td>IIIC</td>\n",
              "      <td>Moderately differentiated; Grade II</td>\n",
              "      <td>Regional</td>\n",
              "      <td>40</td>\n",
              "      <td>Positive</td>\n",
              "      <td>Positive</td>\n",
              "      <td>19</td>\n",
              "      <td>11</td>\n",
              "      <td>1</td>\n",
              "      <td>Alive</td>\n",
              "    </tr>\n",
              "    <tr>\n",
              "      <th>1</th>\n",
              "      <td>47</td>\n",
              "      <td>Other (American Indian/AK Native, Asian/Pacifi...</td>\n",
              "      <td>Married (including common law)</td>\n",
              "      <td>NaN</td>\n",
              "      <td>T2</td>\n",
              "      <td>N2</td>\n",
              "      <td>IIIA</td>\n",
              "      <td>Moderately differentiated; Grade II</td>\n",
              "      <td>Regional</td>\n",
              "      <td>45</td>\n",
              "      <td>Positive</td>\n",
              "      <td>Positive</td>\n",
              "      <td>25</td>\n",
              "      <td>9</td>\n",
              "      <td>2</td>\n",
              "      <td>Alive</td>\n",
              "    </tr>\n",
              "    <tr>\n",
              "      <th>2</th>\n",
              "      <td>67</td>\n",
              "      <td>White</td>\n",
              "      <td>Married (including common law)</td>\n",
              "      <td>NaN</td>\n",
              "      <td>T2</td>\n",
              "      <td>N1</td>\n",
              "      <td>IIB</td>\n",
              "      <td>Poorly differentiated; Grade III</td>\n",
              "      <td>Regional</td>\n",
              "      <td>25</td>\n",
              "      <td>Positive</td>\n",
              "      <td>Positive</td>\n",
              "      <td>4</td>\n",
              "      <td>1</td>\n",
              "      <td>2</td>\n",
              "      <td>Dead</td>\n",
              "    </tr>\n",
              "    <tr>\n",
              "      <th>3</th>\n",
              "      <td>46</td>\n",
              "      <td>White</td>\n",
              "      <td>Divorced</td>\n",
              "      <td>NaN</td>\n",
              "      <td>T1</td>\n",
              "      <td>N1</td>\n",
              "      <td>IIA</td>\n",
              "      <td>Moderately differentiated; Grade II</td>\n",
              "      <td>Regional</td>\n",
              "      <td>19</td>\n",
              "      <td>Positive</td>\n",
              "      <td>Positive</td>\n",
              "      <td>26</td>\n",
              "      <td>1</td>\n",
              "      <td>2</td>\n",
              "      <td>Dead</td>\n",
              "    </tr>\n",
              "    <tr>\n",
              "      <th>4</th>\n",
              "      <td>63</td>\n",
              "      <td>White</td>\n",
              "      <td>Married (including common law)</td>\n",
              "      <td>NaN</td>\n",
              "      <td>T2</td>\n",
              "      <td>N2</td>\n",
              "      <td>IIIA</td>\n",
              "      <td>Moderately differentiated; Grade II</td>\n",
              "      <td>Regional</td>\n",
              "      <td>35</td>\n",
              "      <td>Positive</td>\n",
              "      <td>Positive</td>\n",
              "      <td>21</td>\n",
              "      <td>5</td>\n",
              "      <td>3</td>\n",
              "      <td>Dead</td>\n",
              "    </tr>\n",
              "  </tbody>\n",
              "</table>\n",
              "</div>"
            ],
            "text/plain": [
              "   Age  ... Status\n",
              "0   43  ...  Alive\n",
              "1   47  ...  Alive\n",
              "2   67  ...   Dead\n",
              "3   46  ...   Dead\n",
              "4   63  ...   Dead\n",
              "\n",
              "[5 rows x 16 columns]"
            ]
          },
          "metadata": {},
          "execution_count": 5
        }
      ]
    },
    {
      "cell_type": "code",
      "metadata": {
        "colab": {
          "base_uri": "https://localhost:8080/"
        },
        "id": "8c47c8e3",
        "outputId": "7beeb905-295b-4b78-fbdb-d7ff488369cf"
      },
      "source": [
        "#get the summary of data\n",
        "df_raw.info()"
      ],
      "id": "8c47c8e3",
      "execution_count": 6,
      "outputs": [
        {
          "output_type": "stream",
          "name": "stdout",
          "text": [
            "<class 'pandas.core.frame.DataFrame'>\n",
            "RangeIndex: 4024 entries, 0 to 4023\n",
            "Data columns (total 16 columns):\n",
            " #   Column                  Non-Null Count  Dtype  \n",
            "---  ------                  --------------  -----  \n",
            " 0   Age                     4024 non-null   int64  \n",
            " 1   Race                    4024 non-null   object \n",
            " 2   Marital Status          4024 non-null   object \n",
            " 3   Unnamed: 3              0 non-null      float64\n",
            " 4   T Stage                 4024 non-null   object \n",
            " 5   N Stage                 4024 non-null   object \n",
            " 6   6th Stage               4024 non-null   object \n",
            " 7   Grade                   4024 non-null   object \n",
            " 8   A Stage                 4024 non-null   object \n",
            " 9   Tumor Size              4024 non-null   int64  \n",
            " 10  Estrogen Status         4024 non-null   object \n",
            " 11  Progesterone Status     4024 non-null   object \n",
            " 12  Regional Node Examined  4024 non-null   int64  \n",
            " 13  Reginol Node Positive   4024 non-null   int64  \n",
            " 14  Survival Months         4024 non-null   int64  \n",
            " 15  Status                  4024 non-null   object \n",
            "dtypes: float64(1), int64(5), object(10)\n",
            "memory usage: 503.1+ KB\n"
          ]
        }
      ]
    },
    {
      "cell_type": "code",
      "metadata": {
        "id": "40c09c16"
      },
      "source": [
        "#drop the empty column \n",
        "df_raw.drop(columns = ['Unnamed: 3'], inplace = True)"
      ],
      "id": "40c09c16",
      "execution_count": 7,
      "outputs": []
    },
    {
      "cell_type": "code",
      "metadata": {
        "colab": {
          "base_uri": "https://localhost:8080/"
        },
        "id": "b56d4364",
        "scrolled": false,
        "outputId": "58a240bf-2ad3-4fa6-a1dc-6dbaf3f05355"
      },
      "source": [
        "df_raw.info()"
      ],
      "id": "b56d4364",
      "execution_count": 8,
      "outputs": [
        {
          "output_type": "stream",
          "name": "stdout",
          "text": [
            "<class 'pandas.core.frame.DataFrame'>\n",
            "RangeIndex: 4024 entries, 0 to 4023\n",
            "Data columns (total 15 columns):\n",
            " #   Column                  Non-Null Count  Dtype \n",
            "---  ------                  --------------  ----- \n",
            " 0   Age                     4024 non-null   int64 \n",
            " 1   Race                    4024 non-null   object\n",
            " 2   Marital Status          4024 non-null   object\n",
            " 3   T Stage                 4024 non-null   object\n",
            " 4   N Stage                 4024 non-null   object\n",
            " 5   6th Stage               4024 non-null   object\n",
            " 6   Grade                   4024 non-null   object\n",
            " 7   A Stage                 4024 non-null   object\n",
            " 8   Tumor Size              4024 non-null   int64 \n",
            " 9   Estrogen Status         4024 non-null   object\n",
            " 10  Progesterone Status     4024 non-null   object\n",
            " 11  Regional Node Examined  4024 non-null   int64 \n",
            " 12  Reginol Node Positive   4024 non-null   int64 \n",
            " 13  Survival Months         4024 non-null   int64 \n",
            " 14  Status                  4024 non-null   object\n",
            "dtypes: int64(5), object(10)\n",
            "memory usage: 471.7+ KB\n"
          ]
        }
      ]
    },
    {
      "cell_type": "markdown",
      "metadata": {
        "id": "2d56c1e4"
      },
      "source": [
        "### 1-2: Data Definition \n",
        "\n",
        "As seen in the info above, there are 10 categorical columns and 5 numerical columns.\n",
        "There seems to be no null value for all the records."
      ],
      "id": "2d56c1e4"
    },
    {
      "cell_type": "markdown",
      "metadata": {
        "id": "65476d12"
      },
      "source": [
        "\n",
        "To be abale to do proper statical analysis we are going to convert the categorical columns to numberical data"
      ],
      "id": "65476d12"
    },
    {
      "cell_type": "code",
      "metadata": {
        "colab": {
          "base_uri": "https://localhost:8080/"
        },
        "id": "bc1bbaed",
        "outputId": "77189f00-8794-4fef-f0b2-b5d9cbc7c3d0"
      },
      "source": [
        "#check the columns name \n",
        "df_raw.columns"
      ],
      "id": "bc1bbaed",
      "execution_count": 9,
      "outputs": [
        {
          "output_type": "execute_result",
          "data": {
            "text/plain": [
              "Index(['Age', 'Race ', 'Marital Status', 'T Stage ', 'N Stage', '6th Stage',\n",
              "       'Grade', 'A Stage', 'Tumor Size', 'Estrogen Status',\n",
              "       'Progesterone Status', 'Regional Node Examined',\n",
              "       'Reginol Node Positive', 'Survival Months', 'Status'],\n",
              "      dtype='object')"
            ]
          },
          "metadata": {},
          "execution_count": 9
        }
      ]
    },
    {
      "cell_type": "code",
      "metadata": {
        "id": "c344a6a5"
      },
      "source": [
        "#fix \"Race\" and \"T Stage\" column name and remove the space \n",
        "df = df_raw.rename(columns={'Race ':'Race','T Stage ':'T Stage'})"
      ],
      "id": "c344a6a5",
      "execution_count": 10,
      "outputs": []
    },
    {
      "cell_type": "code",
      "metadata": {
        "colab": {
          "base_uri": "https://localhost:8080/"
        },
        "id": "29b99978",
        "outputId": "3b35ce6b-8179-41d4-adf7-2865cbe0442c"
      },
      "source": [
        "#all the columns with object datatype \n",
        "objetc_columns = df.dtypes[df.dtypes == object]\n",
        "objetc_columns.index"
      ],
      "id": "29b99978",
      "execution_count": 11,
      "outputs": [
        {
          "output_type": "execute_result",
          "data": {
            "text/plain": [
              "Index(['Race', 'Marital Status', 'T Stage', 'N Stage', '6th Stage', 'Grade',\n",
              "       'A Stage', 'Estrogen Status', 'Progesterone Status', 'Status'],\n",
              "      dtype='object')"
            ]
          },
          "metadata": {},
          "execution_count": 11
        }
      ]
    },
    {
      "cell_type": "code",
      "metadata": {
        "colab": {
          "base_uri": "https://localhost:8080/"
        },
        "id": "kvL4kex4E13v",
        "outputId": "262bb8ee-b219-4945-f505-e6e534fd02a6"
      },
      "source": [
        "#Remove unnecessary text from the data\n",
        "#In Grade column we just need the grades not the description, therefore it is been trimmed\n",
        "print(df['Grade'].unique())\n",
        "df['Grade'] = df['Grade'].apply(lambda x : x.split(';')[1].strip())\n",
        "print(df['Grade'].unique())"
      ],
      "id": "kvL4kex4E13v",
      "execution_count": 12,
      "outputs": [
        {
          "output_type": "stream",
          "name": "stdout",
          "text": [
            "['Moderately differentiated; Grade II' 'Poorly differentiated; Grade III'\n",
            " 'Well differentiated; Grade I' 'Undifferentiated; anaplastic; Grade IV']\n",
            "['Grade II' 'Grade III' 'Grade I' 'anaplastic']\n"
          ]
        }
      ]
    },
    {
      "cell_type": "code",
      "metadata": {
        "colab": {
          "base_uri": "https://localhost:8080/"
        },
        "id": "xGI4pwGMIKBw",
        "outputId": "9433c661-65f2-4adc-a721-d7b593777298"
      },
      "source": [
        "print(df['Race'].unique())\n",
        "df['Race'] = df['Race'].apply(lambda x : x.split('(')[0].strip())\n",
        "print(df['Race'].unique())"
      ],
      "id": "xGI4pwGMIKBw",
      "execution_count": 14,
      "outputs": [
        {
          "output_type": "stream",
          "name": "stdout",
          "text": [
            "['Other' 'White' 'Black']\n",
            "['Other' 'White' 'Black']\n"
          ]
        }
      ]
    },
    {
      "cell_type": "code",
      "metadata": {
        "colab": {
          "base_uri": "https://localhost:8080/"
        },
        "id": "Z75tzleAI70f",
        "outputId": "21bf3ac3-a62b-43b8-9993-46f911b94a2a"
      },
      "source": [
        "print(df['Marital Status'].unique())\n",
        "df['Marital Status'] = df['Marital Status'].apply(lambda x : x.split('(')[0].strip())\n",
        "print(df['Marital Status'].unique())"
      ],
      "id": "Z75tzleAI70f",
      "execution_count": 15,
      "outputs": [
        {
          "output_type": "stream",
          "name": "stdout",
          "text": [
            "['Married (including common law)' 'Divorced' 'Single (never married)'\n",
            " 'Widowed' 'Separated']\n",
            "['Married' 'Divorced' 'Single' 'Widowed' 'Separated']\n"
          ]
        }
      ]
    },
    {
      "cell_type": "markdown",
      "metadata": {
        "id": "488f02f6"
      },
      "source": [
        "### 1-3: Data Cleaning"
      ],
      "id": "488f02f6"
    },
    {
      "cell_type": "code",
      "metadata": {
        "colab": {
          "base_uri": "https://localhost:8080/",
          "height": 206
        },
        "id": "T5-SboWpgjA3",
        "outputId": "bd8d8c78-08de-478d-d9b0-5446252fd9ac"
      },
      "source": [
        "#caluculate the VIF to check the multicollinearity \n",
        "calculate_vif(df.select_dtypes(include='number'))"
      ],
      "id": "T5-SboWpgjA3",
      "execution_count": 16,
      "outputs": [
        {
          "output_type": "execute_result",
          "data": {
            "text/html": [
              "<div>\n",
              "<style scoped>\n",
              "    .dataframe tbody tr th:only-of-type {\n",
              "        vertical-align: middle;\n",
              "    }\n",
              "\n",
              "    .dataframe tbody tr th {\n",
              "        vertical-align: top;\n",
              "    }\n",
              "\n",
              "    .dataframe thead th {\n",
              "        text-align: right;\n",
              "    }\n",
              "</style>\n",
              "<table border=\"1\" class=\"dataframe\">\n",
              "  <thead>\n",
              "    <tr style=\"text-align: right;\">\n",
              "      <th></th>\n",
              "      <th>Var</th>\n",
              "      <th>Vif</th>\n",
              "    </tr>\n",
              "  </thead>\n",
              "  <tbody>\n",
              "    <tr>\n",
              "      <th>0</th>\n",
              "      <td>Age</td>\n",
              "      <td>11.17</td>\n",
              "    </tr>\n",
              "    <tr>\n",
              "      <th>4</th>\n",
              "      <td>Survival Months</td>\n",
              "      <td>8.73</td>\n",
              "    </tr>\n",
              "    <tr>\n",
              "      <th>2</th>\n",
              "      <td>Regional Node Examined</td>\n",
              "      <td>4.74</td>\n",
              "    </tr>\n",
              "    <tr>\n",
              "      <th>1</th>\n",
              "      <td>Tumor Size</td>\n",
              "      <td>3.08</td>\n",
              "    </tr>\n",
              "    <tr>\n",
              "      <th>3</th>\n",
              "      <td>Reginol Node Positive</td>\n",
              "      <td>2.14</td>\n",
              "    </tr>\n",
              "  </tbody>\n",
              "</table>\n",
              "</div>"
            ],
            "text/plain": [
              "                      Var    Vif\n",
              "0                     Age  11.17\n",
              "4         Survival Months   8.73\n",
              "2  Regional Node Examined   4.74\n",
              "1              Tumor Size   3.08\n",
              "3   Reginol Node Positive   2.14"
            ]
          },
          "metadata": {},
          "execution_count": 16
        }
      ]
    },
    {
      "cell_type": "code",
      "metadata": {
        "colab": {
          "base_uri": "https://localhost:8080/",
          "height": 143
        },
        "id": "mJb-JSaEg0eo",
        "outputId": "7fae654d-b6e0-4290-e4b5-83b0e4f1a4c0"
      },
      "source": [
        "# dropping the feature with the high VIF\n",
        "df_dropped = df.drop(df[['Survival Months']],axis=1)\n",
        "df_dropped = df_dropped.drop(df[['Age']],axis=1)\n",
        "\n",
        "calculate_vif(df_dropped.select_dtypes(include='number'))"
      ],
      "id": "mJb-JSaEg0eo",
      "execution_count": 18,
      "outputs": [
        {
          "output_type": "execute_result",
          "data": {
            "text/html": [
              "<div>\n",
              "<style scoped>\n",
              "    .dataframe tbody tr th:only-of-type {\n",
              "        vertical-align: middle;\n",
              "    }\n",
              "\n",
              "    .dataframe tbody tr th {\n",
              "        vertical-align: top;\n",
              "    }\n",
              "\n",
              "    .dataframe thead th {\n",
              "        text-align: right;\n",
              "    }\n",
              "</style>\n",
              "<table border=\"1\" class=\"dataframe\">\n",
              "  <thead>\n",
              "    <tr style=\"text-align: right;\">\n",
              "      <th></th>\n",
              "      <th>Var</th>\n",
              "      <th>Vif</th>\n",
              "    </tr>\n",
              "  </thead>\n",
              "  <tbody>\n",
              "    <tr>\n",
              "      <th>1</th>\n",
              "      <td>Regional Node Examined</td>\n",
              "      <td>2.86</td>\n",
              "    </tr>\n",
              "    <tr>\n",
              "      <th>0</th>\n",
              "      <td>Tumor Size</td>\n",
              "      <td>2.35</td>\n",
              "    </tr>\n",
              "    <tr>\n",
              "      <th>2</th>\n",
              "      <td>Reginol Node Positive</td>\n",
              "      <td>2.09</td>\n",
              "    </tr>\n",
              "  </tbody>\n",
              "</table>\n",
              "</div>"
            ],
            "text/plain": [
              "                      Var   Vif\n",
              "1  Regional Node Examined  2.86\n",
              "0              Tumor Size  2.35\n",
              "2   Reginol Node Positive  2.09"
            ]
          },
          "metadata": {},
          "execution_count": 18
        }
      ]
    },
    {
      "cell_type": "code",
      "metadata": {
        "id": "047e17a6"
      },
      "source": [
        "#devide the dataset to featurs and target\n",
        "features  = df_dropped.drop('Status',axis = 1)\n",
        "target = df_dropped['Status']"
      ],
      "id": "047e17a6",
      "execution_count": 35,
      "outputs": []
    },
    {
      "cell_type": "code",
      "metadata": {
        "id": "fd358acf"
      },
      "source": [
        "## Call get_dummies() to one-hot encode all features in the training set\n",
        "features = pd.get_dummies(features,drop_first = True)"
      ],
      "id": "fd358acf",
      "execution_count": 36,
      "outputs": []
    },
    {
      "cell_type": "code",
      "metadata": {
        "id": "58d2d623"
      },
      "source": [
        "# Encode TARGET Columns using LabelEncoder\n",
        "le = preprocessing.LabelEncoder()\n",
        "target = pd.DataFrame(le.fit_transform(target).reshape(-1,1),columns = ['Status'])"
      ],
      "id": "58d2d623",
      "execution_count": 37,
      "outputs": []
    },
    {
      "cell_type": "code",
      "metadata": {
        "id": "58aa79a0"
      },
      "source": [
        "df_labeled = pd.concat([features, target], axis=1)"
      ],
      "id": "58aa79a0",
      "execution_count": 38,
      "outputs": []
    },
    {
      "cell_type": "code",
      "metadata": {
        "colab": {
          "base_uri": "https://localhost:8080/"
        },
        "id": "fc446ac3",
        "outputId": "60b8fef3-7413-40e7-8f8a-31405101200d"
      },
      "source": [
        "#confirm all the categorical data are converted to numberical data types\n",
        "df_labeled.info()"
      ],
      "id": "fc446ac3",
      "execution_count": 39,
      "outputs": [
        {
          "output_type": "stream",
          "name": "stdout",
          "text": [
            "<class 'pandas.core.frame.DataFrame'>\n",
            "RangeIndex: 4024 entries, 0 to 4023\n",
            "Data columns (total 25 columns):\n",
            " #   Column                        Non-Null Count  Dtype\n",
            "---  ------                        --------------  -----\n",
            " 0   Tumor Size                    4024 non-null   int64\n",
            " 1   Regional Node Examined        4024 non-null   int64\n",
            " 2   Reginol Node Positive         4024 non-null   int64\n",
            " 3   Race_Other                    4024 non-null   uint8\n",
            " 4   Race_White                    4024 non-null   uint8\n",
            " 5   Marital Status_Married        4024 non-null   uint8\n",
            " 6   Marital Status_Separated      4024 non-null   uint8\n",
            " 7   Marital Status_Single         4024 non-null   uint8\n",
            " 8   Marital Status_Widowed        4024 non-null   uint8\n",
            " 9   T Stage_T2                    4024 non-null   uint8\n",
            " 10  T Stage_T3                    4024 non-null   uint8\n",
            " 11  T Stage_T4                    4024 non-null   uint8\n",
            " 12  N Stage_N2                    4024 non-null   uint8\n",
            " 13  N Stage_N3                    4024 non-null   uint8\n",
            " 14  6th Stage_IIB                 4024 non-null   uint8\n",
            " 15  6th Stage_IIIA                4024 non-null   uint8\n",
            " 16  6th Stage_IIIB                4024 non-null   uint8\n",
            " 17  6th Stage_IIIC                4024 non-null   uint8\n",
            " 18  Grade_Grade II                4024 non-null   uint8\n",
            " 19  Grade_Grade III               4024 non-null   uint8\n",
            " 20  Grade_anaplastic              4024 non-null   uint8\n",
            " 21  A Stage_Regional              4024 non-null   uint8\n",
            " 22  Estrogen Status_Positive      4024 non-null   uint8\n",
            " 23  Progesterone Status_Positive  4024 non-null   uint8\n",
            " 24  Status                        4024 non-null   int64\n",
            "dtypes: int64(4), uint8(21)\n",
            "memory usage: 208.4 KB\n"
          ]
        }
      ]
    },
    {
      "cell_type": "code",
      "metadata": {
        "colab": {
          "base_uri": "https://localhost:8080/",
          "height": 833
        },
        "id": "e470b94c",
        "outputId": "81afca95-e55e-4a9c-a9be-ad740632075b"
      },
      "source": [
        "df_labeled.describe().T"
      ],
      "id": "e470b94c",
      "execution_count": 40,
      "outputs": [
        {
          "output_type": "execute_result",
          "data": {
            "text/html": [
              "<div>\n",
              "<style scoped>\n",
              "    .dataframe tbody tr th:only-of-type {\n",
              "        vertical-align: middle;\n",
              "    }\n",
              "\n",
              "    .dataframe tbody tr th {\n",
              "        vertical-align: top;\n",
              "    }\n",
              "\n",
              "    .dataframe thead th {\n",
              "        text-align: right;\n",
              "    }\n",
              "</style>\n",
              "<table border=\"1\" class=\"dataframe\">\n",
              "  <thead>\n",
              "    <tr style=\"text-align: right;\">\n",
              "      <th></th>\n",
              "      <th>count</th>\n",
              "      <th>mean</th>\n",
              "      <th>std</th>\n",
              "      <th>min</th>\n",
              "      <th>25%</th>\n",
              "      <th>50%</th>\n",
              "      <th>75%</th>\n",
              "      <th>max</th>\n",
              "    </tr>\n",
              "  </thead>\n",
              "  <tbody>\n",
              "    <tr>\n",
              "      <th>Tumor Size</th>\n",
              "      <td>4024.0</td>\n",
              "      <td>30.473658</td>\n",
              "      <td>21.119696</td>\n",
              "      <td>1.0</td>\n",
              "      <td>16.0</td>\n",
              "      <td>25.0</td>\n",
              "      <td>38.0</td>\n",
              "      <td>140.0</td>\n",
              "    </tr>\n",
              "    <tr>\n",
              "      <th>Regional Node Examined</th>\n",
              "      <td>4024.0</td>\n",
              "      <td>14.357107</td>\n",
              "      <td>8.099675</td>\n",
              "      <td>1.0</td>\n",
              "      <td>9.0</td>\n",
              "      <td>14.0</td>\n",
              "      <td>19.0</td>\n",
              "      <td>61.0</td>\n",
              "    </tr>\n",
              "    <tr>\n",
              "      <th>Reginol Node Positive</th>\n",
              "      <td>4024.0</td>\n",
              "      <td>4.158052</td>\n",
              "      <td>5.109331</td>\n",
              "      <td>1.0</td>\n",
              "      <td>1.0</td>\n",
              "      <td>2.0</td>\n",
              "      <td>5.0</td>\n",
              "      <td>46.0</td>\n",
              "    </tr>\n",
              "    <tr>\n",
              "      <th>Race_Other</th>\n",
              "      <td>4024.0</td>\n",
              "      <td>0.079523</td>\n",
              "      <td>0.270587</td>\n",
              "      <td>0.0</td>\n",
              "      <td>0.0</td>\n",
              "      <td>0.0</td>\n",
              "      <td>0.0</td>\n",
              "      <td>1.0</td>\n",
              "    </tr>\n",
              "    <tr>\n",
              "      <th>Race_White</th>\n",
              "      <td>4024.0</td>\n",
              "      <td>0.848161</td>\n",
              "      <td>0.358909</td>\n",
              "      <td>0.0</td>\n",
              "      <td>1.0</td>\n",
              "      <td>1.0</td>\n",
              "      <td>1.0</td>\n",
              "      <td>1.0</td>\n",
              "    </tr>\n",
              "    <tr>\n",
              "      <th>Marital Status_Married</th>\n",
              "      <td>4024.0</td>\n",
              "      <td>0.656809</td>\n",
              "      <td>0.474834</td>\n",
              "      <td>0.0</td>\n",
              "      <td>0.0</td>\n",
              "      <td>1.0</td>\n",
              "      <td>1.0</td>\n",
              "      <td>1.0</td>\n",
              "    </tr>\n",
              "    <tr>\n",
              "      <th>Marital Status_Separated</th>\n",
              "      <td>4024.0</td>\n",
              "      <td>0.011183</td>\n",
              "      <td>0.105169</td>\n",
              "      <td>0.0</td>\n",
              "      <td>0.0</td>\n",
              "      <td>0.0</td>\n",
              "      <td>0.0</td>\n",
              "      <td>1.0</td>\n",
              "    </tr>\n",
              "    <tr>\n",
              "      <th>Marital Status_Single</th>\n",
              "      <td>4024.0</td>\n",
              "      <td>0.152833</td>\n",
              "      <td>0.359871</td>\n",
              "      <td>0.0</td>\n",
              "      <td>0.0</td>\n",
              "      <td>0.0</td>\n",
              "      <td>0.0</td>\n",
              "      <td>1.0</td>\n",
              "    </tr>\n",
              "    <tr>\n",
              "      <th>Marital Status_Widowed</th>\n",
              "      <td>4024.0</td>\n",
              "      <td>0.058400</td>\n",
              "      <td>0.234527</td>\n",
              "      <td>0.0</td>\n",
              "      <td>0.0</td>\n",
              "      <td>0.0</td>\n",
              "      <td>0.0</td>\n",
              "      <td>1.0</td>\n",
              "    </tr>\n",
              "    <tr>\n",
              "      <th>T Stage_T2</th>\n",
              "      <td>4024.0</td>\n",
              "      <td>0.443837</td>\n",
              "      <td>0.496897</td>\n",
              "      <td>0.0</td>\n",
              "      <td>0.0</td>\n",
              "      <td>0.0</td>\n",
              "      <td>1.0</td>\n",
              "      <td>1.0</td>\n",
              "    </tr>\n",
              "    <tr>\n",
              "      <th>T Stage_T3</th>\n",
              "      <td>4024.0</td>\n",
              "      <td>0.132455</td>\n",
              "      <td>0.339027</td>\n",
              "      <td>0.0</td>\n",
              "      <td>0.0</td>\n",
              "      <td>0.0</td>\n",
              "      <td>0.0</td>\n",
              "      <td>1.0</td>\n",
              "    </tr>\n",
              "    <tr>\n",
              "      <th>T Stage_T4</th>\n",
              "      <td>4024.0</td>\n",
              "      <td>0.025348</td>\n",
              "      <td>0.157199</td>\n",
              "      <td>0.0</td>\n",
              "      <td>0.0</td>\n",
              "      <td>0.0</td>\n",
              "      <td>0.0</td>\n",
              "      <td>1.0</td>\n",
              "    </tr>\n",
              "    <tr>\n",
              "      <th>N Stage_N2</th>\n",
              "      <td>4024.0</td>\n",
              "      <td>0.203777</td>\n",
              "      <td>0.402855</td>\n",
              "      <td>0.0</td>\n",
              "      <td>0.0</td>\n",
              "      <td>0.0</td>\n",
              "      <td>0.0</td>\n",
              "      <td>1.0</td>\n",
              "    </tr>\n",
              "    <tr>\n",
              "      <th>N Stage_N3</th>\n",
              "      <td>4024.0</td>\n",
              "      <td>0.117296</td>\n",
              "      <td>0.321813</td>\n",
              "      <td>0.0</td>\n",
              "      <td>0.0</td>\n",
              "      <td>0.0</td>\n",
              "      <td>0.0</td>\n",
              "      <td>1.0</td>\n",
              "    </tr>\n",
              "    <tr>\n",
              "      <th>6th Stage_IIB</th>\n",
              "      <td>4024.0</td>\n",
              "      <td>0.280815</td>\n",
              "      <td>0.449453</td>\n",
              "      <td>0.0</td>\n",
              "      <td>0.0</td>\n",
              "      <td>0.0</td>\n",
              "      <td>1.0</td>\n",
              "      <td>1.0</td>\n",
              "    </tr>\n",
              "    <tr>\n",
              "      <th>6th Stage_IIIA</th>\n",
              "      <td>4024.0</td>\n",
              "      <td>0.260934</td>\n",
              "      <td>0.439199</td>\n",
              "      <td>0.0</td>\n",
              "      <td>0.0</td>\n",
              "      <td>0.0</td>\n",
              "      <td>1.0</td>\n",
              "      <td>1.0</td>\n",
              "    </tr>\n",
              "    <tr>\n",
              "      <th>6th Stage_IIIB</th>\n",
              "      <td>4024.0</td>\n",
              "      <td>0.016650</td>\n",
              "      <td>0.127972</td>\n",
              "      <td>0.0</td>\n",
              "      <td>0.0</td>\n",
              "      <td>0.0</td>\n",
              "      <td>0.0</td>\n",
              "      <td>1.0</td>\n",
              "    </tr>\n",
              "    <tr>\n",
              "      <th>6th Stage_IIIC</th>\n",
              "      <td>4024.0</td>\n",
              "      <td>0.117296</td>\n",
              "      <td>0.321813</td>\n",
              "      <td>0.0</td>\n",
              "      <td>0.0</td>\n",
              "      <td>0.0</td>\n",
              "      <td>0.0</td>\n",
              "      <td>1.0</td>\n",
              "    </tr>\n",
              "    <tr>\n",
              "      <th>Grade_Grade II</th>\n",
              "      <td>4024.0</td>\n",
              "      <td>0.584245</td>\n",
              "      <td>0.492913</td>\n",
              "      <td>0.0</td>\n",
              "      <td>0.0</td>\n",
              "      <td>1.0</td>\n",
              "      <td>1.0</td>\n",
              "      <td>1.0</td>\n",
              "    </tr>\n",
              "    <tr>\n",
              "      <th>Grade_Grade III</th>\n",
              "      <td>4024.0</td>\n",
              "      <td>0.276093</td>\n",
              "      <td>0.447119</td>\n",
              "      <td>0.0</td>\n",
              "      <td>0.0</td>\n",
              "      <td>0.0</td>\n",
              "      <td>1.0</td>\n",
              "      <td>1.0</td>\n",
              "    </tr>\n",
              "    <tr>\n",
              "      <th>Grade_anaplastic</th>\n",
              "      <td>4024.0</td>\n",
              "      <td>0.004722</td>\n",
              "      <td>0.068561</td>\n",
              "      <td>0.0</td>\n",
              "      <td>0.0</td>\n",
              "      <td>0.0</td>\n",
              "      <td>0.0</td>\n",
              "      <td>1.0</td>\n",
              "    </tr>\n",
              "    <tr>\n",
              "      <th>A Stage_Regional</th>\n",
              "      <td>4024.0</td>\n",
              "      <td>0.977137</td>\n",
              "      <td>0.149485</td>\n",
              "      <td>0.0</td>\n",
              "      <td>1.0</td>\n",
              "      <td>1.0</td>\n",
              "      <td>1.0</td>\n",
              "      <td>1.0</td>\n",
              "    </tr>\n",
              "    <tr>\n",
              "      <th>Estrogen Status_Positive</th>\n",
              "      <td>4024.0</td>\n",
              "      <td>0.933151</td>\n",
              "      <td>0.249791</td>\n",
              "      <td>0.0</td>\n",
              "      <td>1.0</td>\n",
              "      <td>1.0</td>\n",
              "      <td>1.0</td>\n",
              "      <td>1.0</td>\n",
              "    </tr>\n",
              "    <tr>\n",
              "      <th>Progesterone Status_Positive</th>\n",
              "      <td>4024.0</td>\n",
              "      <td>0.826541</td>\n",
              "      <td>0.378691</td>\n",
              "      <td>0.0</td>\n",
              "      <td>1.0</td>\n",
              "      <td>1.0</td>\n",
              "      <td>1.0</td>\n",
              "      <td>1.0</td>\n",
              "    </tr>\n",
              "    <tr>\n",
              "      <th>Status</th>\n",
              "      <td>4024.0</td>\n",
              "      <td>0.153082</td>\n",
              "      <td>0.360111</td>\n",
              "      <td>0.0</td>\n",
              "      <td>0.0</td>\n",
              "      <td>0.0</td>\n",
              "      <td>0.0</td>\n",
              "      <td>1.0</td>\n",
              "    </tr>\n",
              "  </tbody>\n",
              "</table>\n",
              "</div>"
            ],
            "text/plain": [
              "                               count       mean        std  ...   50%   75%    max\n",
              "Tumor Size                    4024.0  30.473658  21.119696  ...  25.0  38.0  140.0\n",
              "Regional Node Examined        4024.0  14.357107   8.099675  ...  14.0  19.0   61.0\n",
              "Reginol Node Positive         4024.0   4.158052   5.109331  ...   2.0   5.0   46.0\n",
              "Race_Other                    4024.0   0.079523   0.270587  ...   0.0   0.0    1.0\n",
              "Race_White                    4024.0   0.848161   0.358909  ...   1.0   1.0    1.0\n",
              "Marital Status_Married        4024.0   0.656809   0.474834  ...   1.0   1.0    1.0\n",
              "Marital Status_Separated      4024.0   0.011183   0.105169  ...   0.0   0.0    1.0\n",
              "Marital Status_Single         4024.0   0.152833   0.359871  ...   0.0   0.0    1.0\n",
              "Marital Status_Widowed        4024.0   0.058400   0.234527  ...   0.0   0.0    1.0\n",
              "T Stage_T2                    4024.0   0.443837   0.496897  ...   0.0   1.0    1.0\n",
              "T Stage_T3                    4024.0   0.132455   0.339027  ...   0.0   0.0    1.0\n",
              "T Stage_T4                    4024.0   0.025348   0.157199  ...   0.0   0.0    1.0\n",
              "N Stage_N2                    4024.0   0.203777   0.402855  ...   0.0   0.0    1.0\n",
              "N Stage_N3                    4024.0   0.117296   0.321813  ...   0.0   0.0    1.0\n",
              "6th Stage_IIB                 4024.0   0.280815   0.449453  ...   0.0   1.0    1.0\n",
              "6th Stage_IIIA                4024.0   0.260934   0.439199  ...   0.0   1.0    1.0\n",
              "6th Stage_IIIB                4024.0   0.016650   0.127972  ...   0.0   0.0    1.0\n",
              "6th Stage_IIIC                4024.0   0.117296   0.321813  ...   0.0   0.0    1.0\n",
              "Grade_Grade II                4024.0   0.584245   0.492913  ...   1.0   1.0    1.0\n",
              "Grade_Grade III               4024.0   0.276093   0.447119  ...   0.0   1.0    1.0\n",
              "Grade_anaplastic              4024.0   0.004722   0.068561  ...   0.0   0.0    1.0\n",
              "A Stage_Regional              4024.0   0.977137   0.149485  ...   1.0   1.0    1.0\n",
              "Estrogen Status_Positive      4024.0   0.933151   0.249791  ...   1.0   1.0    1.0\n",
              "Progesterone Status_Positive  4024.0   0.826541   0.378691  ...   1.0   1.0    1.0\n",
              "Status                        4024.0   0.153082   0.360111  ...   0.0   0.0    1.0\n",
              "\n",
              "[25 rows x 8 columns]"
            ]
          },
          "metadata": {},
          "execution_count": 40
        }
      ]
    },
    {
      "cell_type": "code",
      "metadata": {
        "colab": {
          "base_uri": "https://localhost:8080/",
          "height": 384
        },
        "id": "vqvE52C0VKra",
        "outputId": "bbaff9b8-c353-444c-a08b-a6b18fed6831"
      },
      "source": [
        "# draw the heatmap to display the correlation between the continious features\n",
        "sns.heatmap(df.select_dtypes(include = 'number').corr(), annot=True)\n",
        "plt.show()"
      ],
      "id": "vqvE52C0VKra",
      "execution_count": 45,
      "outputs": [
        {
          "output_type": "display_data",
          "data": {
            "image/png": "[encoded data removed]",
            "text/plain": [
              "<Figure size 432x288 with 2 Axes>"
            ]
          },
          "metadata": {
            "needs_background": "light"
          }
        }
      ]
    },
    {
      "cell_type": "markdown",
      "metadata": {
        "id": "i_cgoXvQR3A6"
      },
      "source": [
        "As seen in the above map there are some correlation between the features such as T stage,N satge and 6th stage. We will keep this in mind but will not drop it and do more investigation in EDA."
      ],
      "id": "i_cgoXvQR3A6"
    },
    {
      "cell_type": "code",
      "metadata": {
        "colab": {
          "base_uri": "https://localhost:8080/",
          "height": 607
        },
        "id": "0c2fa64d",
        "outputId": "30d7b491-5a7b-444c-c7c8-599642198beb"
      },
      "source": [
        "#Plot distributions of features\n",
        "df_labeled.hist(figsize=(15,10))\n",
        "plt.subplots_adjust(hspace=0.5);\n"
      ],
      "id": "0c2fa64d",
      "execution_count": 46,
      "outputs": [
        {
          "output_type": "display_data",
          "data": {
            "image/png": "[encoded data removed]",
            "text/plain": [
              "<Figure size 1080x720 with 25 Axes>"
            ]
          },
          "metadata": {
            "needs_background": "light"
          }
        }
      ]
    },
    {
      "cell_type": "code",
      "metadata": {
        "id": "mgUI5UFC6Gl6"
      },
      "source": [
        "#save the data\n",
        "# fpath = '/content/drive/My Drive/Git/Springboard/capston 2 project/data/bc_data_cleaned_labeled.csv'\n",
        "fpath = '../data/bc_data_cleaned_labeled.csv'\n",
        "df_labeled.to_csv(fpath, index=False)"
      ],
      "id": "mgUI5UFC6Gl6",
      "execution_count": null,
      "outputs": []
    },
    {
      "cell_type": "markdown",
      "metadata": {
        "id": "ee2d88fe"
      },
      "source": [
        "## As the data is imbalanced, synthetic data has been created and data is update as below"
      ],
      "id": "ee2d88fe"
    },
    {
      "cell_type": "code",
      "metadata": {
        "id": "24da1756"
      },
      "source": [
        "# fpath = '/content/drive/My Drive/Git/Springboard/capston 2 project/data/bc_data_synthetic_labeled.csv'\n",
        "fpath = '../data/bc_data_synthetic.csv'\n",
        "df_synth= pd.read_csv(fpath)"
      ],
      "id": "24da1756",
      "execution_count": null,
      "outputs": []
    },
    {
      "cell_type": "code",
      "metadata": {
        "colab": {
          "base_uri": "https://localhost:8080/"
        },
        "id": "204ddf29",
        "outputId": "24a70a9b-317c-41ab-ddb3-3c2cb3ea8422"
      },
      "source": [
        "df_synth.info()"
      ],
      "id": "204ddf29",
      "execution_count": null,
      "outputs": [
        {
          "name": "stdout",
          "output_type": "stream",
          "text": [
            "<class 'pandas.core.frame.DataFrame'>\n",
            "RangeIndex: 6816 entries, 0 to 6815\n",
            "Data columns (total 26 columns):\n",
            " #   Column                        Non-Null Count  Dtype\n",
            "---  ------                        --------------  -----\n",
            " 0   Tumor Size                    6816 non-null   int64\n",
            " 1   Regional Node Examined        6816 non-null   int64\n",
            " 2   Reginol Node Positive         6816 non-null   int64\n",
            " 3   Survival Months               6816 non-null   int64\n",
            " 4   Race_Other                    6816 non-null   int64\n",
            " 5   Race_White                    6816 non-null   int64\n",
            " 6   Marital Status_Married        6816 non-null   int64\n",
            " 7   Marital Status_Separated      6816 non-null   int64\n",
            " 8   Marital Status_Single         6816 non-null   int64\n",
            " 9   Marital Status_Widowed        6816 non-null   int64\n",
            " 10  T Stage_T2                    6816 non-null   int64\n",
            " 11  T Stage_T3                    6816 non-null   int64\n",
            " 12  T Stage_T4                    6816 non-null   int64\n",
            " 13  N Stage_N2                    6816 non-null   int64\n",
            " 14  N Stage_N3                    6816 non-null   int64\n",
            " 15  6th Stage_IIB                 6816 non-null   int64\n",
            " 16  6th Stage_IIIA                6816 non-null   int64\n",
            " 17  6th Stage_IIIB                6816 non-null   int64\n",
            " 18  6th Stage_IIIC                6816 non-null   int64\n",
            " 19  Grade_Grade II                6816 non-null   int64\n",
            " 20  Grade_Grade III               6816 non-null   int64\n",
            " 21  Grade_anaplastic              6816 non-null   int64\n",
            " 22  A Stage_Regional              6816 non-null   int64\n",
            " 23  Estrogen Status_Positive      6816 non-null   int64\n",
            " 24  Progesterone Status_Positive  6816 non-null   int64\n",
            " 25  Status                        6816 non-null   int64\n",
            "dtypes: int64(26)\n",
            "memory usage: 1.4 MB\n"
          ]
        }
      ]
    },
    {
      "cell_type": "code",
      "metadata": {
        "colab": {
          "base_uri": "https://localhost:8080/",
          "height": 486
        },
        "id": "45b2fc3c",
        "scrolled": false,
        "outputId": "af22de5a-3676-4e8a-8888-cc7d9674d93a"
      },
      "source": [
        "#exploring the summary of all the features after combined with synthetic data\n",
        "get_summary(df_synth,['Status'])"
      ],
      "id": "45b2fc3c",
      "execution_count": null,
      "outputs": [
        {
          "name": "stdout",
          "output_type": "stream",
          "text": [
            "Summary for: \"Status\"\n",
            "   count     %\n",
            "0   3408  50.0\n",
            "1   3408  50.0\n",
            "\n",
            "\n"
          ]
        },
        {
          "data": {
            "image/png": "[encoded data removed]",
            "text/plain": [
              "<Figure size 360x360 with 1 Axes>"
            ]
          },
          "metadata": {
            "needs_background": "light"
          },
          "output_type": "display_data"
        },
        {
          "name": "stdout",
          "output_type": "stream",
          "text": [
            "________________________________________________________________________________________________________\n"
          ]
        }
      ]
    },
    {
      "cell_type": "markdown",
      "metadata": {
        "id": "kxJ07paRS3kR"
      },
      "source": [
        "As seen in the above graphs the data has been balanced correctly."
      ],
      "id": "kxJ07paRS3kR"
    }
  ]
}