{
  "nbformat": 4,
  "nbformat_minor": 0,
  "metadata": {
    "kernelspec": {
      "display_name": "Python 3",
      "language": "python",
      "name": "python3"
    },
    "language_info": {
      "codemirror_mode": {
        "name": "ipython",
        "version": 3
      },
      "file_extension": ".py",
      "mimetype": "text/x-python",
      "name": "python",
      "nbconvert_exporter": "python",
      "pygments_lexer": "ipython3",
      "version": "3.8.8"
    },
    "colab": {
      "name": "api_data_wrangling_mini_project.ipynb",
      "provenance": [],
      "collapsed_sections": []
    }
  },
  "cells": [
    {
      "cell_type": "markdown",
      "metadata": {
        "id": "U-xzj38JpwUJ"
      },
      "source": [
        "This exercise will require you to pull some data from the Qunadl API. Qaundl is currently the most widely used aggregator of financial market data."
      ]
    },
    {
      "cell_type": "markdown",
      "metadata": {
        "id": "6yyp23uxpwUO"
      },
      "source": [
        "As a first step, you will need to register a free account on the http://www.quandl.com website."
      ]
    },
    {
      "cell_type": "markdown",
      "metadata": {
        "id": "LS5gKCj9pwUP"
      },
      "source": [
        "After you register, you will be provided with a unique API key, that you should store:"
      ]
    },
    {
      "cell_type": "code",
      "metadata": {
        "collapsed": true,
        "jupyter": {
          "outputs_hidden": true
        },
        "id": "Ez1g3N4rpwUP"
      },
      "source": [
        "# Store the API key as a string - according to PEP8, constants are always named in all upper case\n",
        "API_KEY = ''"
      ],
      "execution_count": 1,
      "outputs": []
    },
    {
      "cell_type": "markdown",
      "metadata": {
        "id": "gP6MPFdCpwUR"
      },
      "source": [
        "Qaundl has a large number of data sources, but, unfortunately, most of them require a Premium subscription. Still, there are also a good number of free datasets."
      ]
    },
    {
      "cell_type": "markdown",
      "metadata": {
        "id": "BCn608mzpwUS"
      },
      "source": [
        "For this mini project, we will focus on equities data from the Frankfurt Stock Exhange (FSE), which is available for free. We'll try and analyze the stock prices of a company called Carl Zeiss Meditec, which manufactures tools for eye examinations, as well as medical lasers for laser eye surgery: https://www.zeiss.com/meditec/int/home.html. The company is listed under the stock ticker AFX_X."
      ]
    },
    {
      "cell_type": "markdown",
      "metadata": {
        "id": "6grKha66pwUT"
      },
      "source": [
        "You can find the detailed Quandl API instructions here: https://docs.quandl.com/docs/time-series"
      ]
    },
    {
      "cell_type": "markdown",
      "metadata": {
        "id": "BDaAbsGFpwUT"
      },
      "source": [
        "While there is a dedicated Python package for connecting to the Quandl API, we would prefer that you use the *requests* package, which can be easily downloaded using *pip* or *conda*. You can find the documentation for the package here: http://docs.python-requests.org/en/master/ "
      ]
    },
    {
      "cell_type": "markdown",
      "metadata": {
        "id": "Oxz9HwEbpwUU"
      },
      "source": [
        "Finally, apart from the *requests* package, you are encouraged to not use any third party Python packages, such as *pandas*, and instead focus on what's available in the Python Standard Library (the *collections* module might come in handy: https://pymotw.com/3/collections/ ).\n",
        "Also, since you won't have access to DataFrames, you are encouraged to us Python's native data structures - preferably dictionaries, though some questions can also be answered using lists.\n",
        "You can read more on these data structures here: https://docs.python.org/3/tutorial/datastructures.html"
      ]
    },
    {
      "cell_type": "markdown",
      "metadata": {
        "id": "ERl2cKkcpwUV"
      },
      "source": [
        "Keep in mind that the JSON responses you will be getting from the API map almost one-to-one to Python's dictionaries. Unfortunately, they can be very nested, so make sure you read up on indexing dictionaries in the documentation provided above."
      ]
    },
    {
      "cell_type": "code",
      "metadata": {
        "collapsed": true,
        "jupyter": {
          "outputs_hidden": true
        },
        "id": "Uh4z0chspwUV"
      },
      "source": [
        "import requests\n",
        "import json\n",
        "import sys"
      ],
      "execution_count": 30,
      "outputs": []
    },
    {
      "cell_type": "markdown",
      "metadata": {
        "id": "dhZvFBU5pwUV"
      },
      "source": [
        "Note: API's can change a bit with each version, for this exercise it is reccomended to use the \"V3\" quandl api at `https://www.quandl.com/api/v3/`"
      ]
    },
    {
      "cell_type": "code",
      "metadata": {
        "collapsed": true,
        "jupyter": {
          "outputs_hidden": true
        },
        "id": "i8MkckP4pwUW"
      },
      "source": [
        "# Now, call the Quandl API and pull out a small sample of the data (only one day) to get a glimpse\n",
        "# into the JSON structure that will be returned\n",
        "url = 'https://www.quandl.com/api/v3/datasets/OPEC/ORB.json'\n",
        "params = {'start_date' : '2010-01-01','end_date' : '2010-01-02'}\n",
        "data = requests.get(url, params)"
      ],
      "execution_count": 3,
      "outputs": []
    },
    {
      "cell_type": "code",
      "metadata": {
        "collapsed": true,
        "jupyter": {
          "outputs_hidden": true
        },
        "colab": {
          "base_uri": "https://localhost:8080/"
        },
        "id": "rfhYaxdipwUW",
        "outputId": "1068e0d2-23d5-4294-886f-6b027ffc30ca"
      },
      "source": [
        "# Inspect the JSON structure of the object you created, and take note of how nested it is,\n",
        "# as well as the overall structure\n",
        "data_json = data.json()\n",
        "print(data_json)"
      ],
      "execution_count": 4,
      "outputs": [
        {
          "output_type": "stream",
          "text": [
            "{'dataset': {'id': 2288715, 'dataset_code': 'ORB', 'database_code': 'OPEC', 'name': 'OPEC Crude Oil Price', 'description': 'Reference Price for the OPEC Crude Oil Basket.  Currently includes: Saharan Blend (Algeria), Girassol (Angola), Oriente (Ecuador), Iran Heavy (Islamic Republic of Iran), Basra Light (Iraq), Kuwait Export (Kuwait), Es Sider (Libya), Bonny Light (Nigeria), Qatar Marine (Qatar), Arab Light (Saudi Arabia), Murban (UAE) and Merey (Venezuela).', 'refreshed_at': '2021-08-27T12:25:17.108Z', 'newest_available_date': '2021-08-26', 'oldest_available_date': '2003-01-02', 'column_names': ['Date', 'Value'], 'frequency': 'daily', 'type': 'Time Series', 'premium': False, 'limit': None, 'transform': None, 'column_index': None, 'start_date': '2010-01-01', 'end_date': '2010-01-02', 'data': [], 'collapse': None, 'order': None, 'database_id': 381}}\n"
          ],
          "name": "stdout"
        }
      ]
    },
    {
      "cell_type": "markdown",
      "metadata": {
        "id": "iDunY_ErpwUW"
      },
      "source": [
        "These are your tasks for this mini project:\n",
        "\n",
        "1. Collect data from the Franfurt Stock Exchange, for the ticker AFX_X, for the whole year 2017 (keep in mind that the date format is YYYY-MM-DD).\n",
        "2. Convert the returned JSON object into a Python dictionary.\n",
        "3. Calculate what the highest and lowest opening prices were for the stock in this period.\n",
        "4. What was the largest change in any one day (based on High and Low price)?\n",
        "5. What was the largest change between any two days (based on Closing Price)?\n",
        "6. What was the average daily trading volume during this year?\n",
        "7. (Optional) What was the median trading volume during this year. (Note: you may need to implement your own function for calculating the median.)"
      ]
    },
    {
      "cell_type": "code",
      "metadata": {
        "id": "yPep-x1-HiYW"
      },
      "source": [
        "#setup the api url and params\n",
        "url = \"https://www.quandl.com/api/v3/datasets/FSE/AFX_X/data.json\"\n",
        "params = {\"start_date\" : \"2017-01-01\", \"end_date\" : \"2018-01-01\"}"
      ],
      "execution_count": 5,
      "outputs": []
    },
    {
      "cell_type": "code",
      "metadata": {
        "id": "JYzfTtIRGEQ7"
      },
      "source": [
        "#call api\n",
        "res = requests.get(url, params)"
      ],
      "execution_count": 8,
      "outputs": []
    },
    {
      "cell_type": "code",
      "metadata": {
        "id": "KmSLtviHGRtV"
      },
      "source": [
        "#convert json to dictionary\n",
        "data_dic = res.json()"
      ],
      "execution_count": 12,
      "outputs": []
    },
    {
      "cell_type": "code",
      "metadata": {
        "colab": {
          "base_uri": "https://localhost:8080/"
        },
        "id": "GeaoUloqgsax",
        "outputId": "a6d36594-57c0-4381-88b2-ea4a0f6738bc"
      },
      "source": [
        "#check the keys \n",
        "data_dic.keys()"
      ],
      "execution_count": 16,
      "outputs": [
        {
          "output_type": "execute_result",
          "data": {
            "text/plain": [
              "dict_keys(['dataset_data'])"
            ]
          },
          "metadata": {},
          "execution_count": 16
        }
      ]
    },
    {
      "cell_type": "code",
      "metadata": {
        "colab": {
          "base_uri": "https://localhost:8080/"
        },
        "id": "ARv9ByMUg4FK",
        "outputId": "ddf39bfc-cce4-4dc5-8b6a-35c0d0b3c0d1"
      },
      "source": [
        "data_dic['dataset_data'].keys()"
      ],
      "execution_count": 17,
      "outputs": [
        {
          "output_type": "execute_result",
          "data": {
            "text/plain": [
              "dict_keys(['limit', 'transform', 'column_index', 'column_names', 'start_date', 'end_date', 'frequency', 'data', 'collapse', 'order'])"
            ]
          },
          "metadata": {},
          "execution_count": 17
        }
      ]
    },
    {
      "cell_type": "code",
      "metadata": {
        "colab": {
          "base_uri": "https://localhost:8080/"
        },
        "id": "MRBjGZxFGG6M",
        "outputId": "38407ce2-1089-45ed-cbab-f1b49fb4afd9"
      },
      "source": [
        "#fetch values and column names\n",
        "data = data_dic['dataset_data']['data']\n",
        "columns = data_dic['dataset_data']['column_names']\n",
        "columns"
      ],
      "execution_count": 24,
      "outputs": [
        {
          "output_type": "execute_result",
          "data": {
            "text/plain": [
              "['Date',\n",
              " 'Open',\n",
              " 'High',\n",
              " 'Low',\n",
              " 'Close',\n",
              " 'Change',\n",
              " 'Traded Volume',\n",
              " 'Turnover',\n",
              " 'Last Price of the Day',\n",
              " 'Daily Traded Units',\n",
              " 'Daily Turnover']"
            ]
          },
          "metadata": {},
          "execution_count": 24
        }
      ]
    },
    {
      "cell_type": "code",
      "metadata": {
        "colab": {
          "base_uri": "https://localhost:8080/"
        },
        "id": "lw112MAzhxQU",
        "outputId": "4d592729-10dd-4183-a680-cbfc4ab66c49"
      },
      "source": [
        "#the highest and lowest opening prices\n",
        "highest_value = sys.float_info.min\n",
        "lowest_value = sys.float_info.max\n",
        "OPEN = 1\n",
        "\n",
        "for entry in data :\n",
        "  if entry[OPEN]:\n",
        "    if entry[OPEN] > highest_value:\n",
        "      highest_value = entry[OPEN]\n",
        "    elif entry[OPEN] < lowest_value:  \n",
        "      lowest_value = entry[OPEN]\n",
        "      \n",
        "print(lowest_value) \n",
        "print(highest_value)       "
      ],
      "execution_count": 68,
      "outputs": [
        {
          "output_type": "stream",
          "text": [
            "34.0\n",
            "53.11\n"
          ],
          "name": "stdout"
        }
      ]
    },
    {
      "cell_type": "code",
      "metadata": {
        "colab": {
          "base_uri": "https://localhost:8080/"
        },
        "id": "wIHfsk8ymrXo",
        "outputId": "ba7af845-bd7d-42cd-c01e-6b325b88c99f"
      },
      "source": [
        "#the largest change in any one day (based on High and Low price)\n",
        "HIGH = 2\n",
        "LOW = 3\n",
        "largest_daily_change = sys.float_info.min\n",
        "\n",
        "for entry in data :\n",
        "  if entry[HIGH] and entry[LOW] :\n",
        "    change = entry[HIGH] - entry[LOW] \n",
        "    if change > largest_daily_change:\n",
        "      largest_daily_change = change\n",
        "\n",
        "print(largest_daily_change)"
      ],
      "execution_count": 72,
      "outputs": [
        {
          "output_type": "stream",
          "text": [
            "2.8100000000000023\n"
          ],
          "name": "stdout"
        }
      ]
    },
    {
      "cell_type": "code",
      "metadata": {
        "colab": {
          "base_uri": "https://localhost:8080/"
        },
        "id": "z2Ab-uJmqQNX",
        "outputId": "63ddb61e-5a7b-4a46-f3f2-14e9d8881173"
      },
      "source": [
        "#the largest change between any two days (based on Closing Price)\n",
        "CLOSE = 4\n",
        "largest_change = sys.float_info.min\n",
        "\n",
        "for i in range(len(data) - 1) :\n",
        "  if data[i][CLOSE] and data[i+1][CLOSE]:\n",
        "    change = abs(data[i][CLOSE] - data[i + 1][CLOSE])\n",
        "    if change > largest_change:\n",
        "      largest_change = change\n",
        "\n",
        "print(largest_change)"
      ],
      "execution_count": 74,
      "outputs": [
        {
          "output_type": "stream",
          "text": [
            "2.559999999999995\n"
          ],
          "name": "stdout"
        }
      ]
    },
    {
      "cell_type": "code",
      "metadata": {
        "colab": {
          "base_uri": "https://localhost:8080/"
        },
        "id": "JWrCF4ETrltv",
        "outputId": "aa998c6b-4931-483b-fc08-f6e60d1d3cd2"
      },
      "source": [
        "#the average daily trading volume during this year\n",
        "TRADED_VOLUME = 6\n",
        "total_volume = 0\n",
        "\n",
        "for entry in data :\n",
        "  if entry[TRADED_VOLUME]:\n",
        "    total_volume += entry[TRADED_VOLUME]\n",
        "\n",
        "\n",
        "average_daily_trading_volume = total_volume/len(data)\n",
        "print(average_daily_trading_volume)"
      ],
      "execution_count": 76,
      "outputs": [
        {
          "output_type": "stream",
          "text": [
            "89124.33725490196\n"
          ],
          "name": "stdout"
        }
      ]
    },
    {
      "cell_type": "code",
      "metadata": {
        "colab": {
          "base_uri": "https://localhost:8080/"
        },
        "id": "UdG8tTEWsqIn",
        "outputId": "d5e5fd6d-d3e5-4b5e-ccc9-532d3d760580"
      },
      "source": [
        "# the median trading volume during this year\n",
        "tradinng_volume_values = [entry[TRADED_VOLUME] for entry in data]\n",
        "sorted_tradinng_volume_values = sorted(tradinng_volume_values)\n",
        "\n",
        "median = 0\n",
        "total_days = len(tradinng_volume_values)\n",
        "if total_days % 2 == 0 :\n",
        "  median = tradinng_volume_values[total_days//2]\n",
        "else:\n",
        "  median = (tradinng_volume_values[total_days//2] + tradinng_volume_values[total_days//2 - 1])/2\n",
        "\n",
        "print(median)"
      ],
      "execution_count": 83,
      "outputs": [
        {
          "output_type": "stream",
          "text": [
            "135538.5\n"
          ],
          "name": "stdout"
        }
      ]
    }
  ]
}