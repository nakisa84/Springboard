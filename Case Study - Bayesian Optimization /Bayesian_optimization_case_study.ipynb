{
  "cells": [
    {
      "cell_type": "markdown",
      "metadata": {
        "id": "view-in-github",
        "colab_type": "text"
      },
      "source": [
        "<a href=\"https://colab.research.google.com/github/nakisa84/Springboard/blob/main/Case%20Study%20-%20Bayesian%20Optimization%20/Bayesian_optimization_case_study.ipynb\" target=\"_parent\"><img src=\"https://colab.research.google.com/assets/colab-badge.svg\" alt=\"Open In Colab\"/></a>"
      ]
    },
    {
      "cell_type": "markdown",
      "metadata": {
        "id": "WNK7vbHo-KYU"
      },
      "source": [
        "## Bayesian methods of hyperparameter optimization"
      ]
    },
    {
      "cell_type": "markdown",
      "metadata": {
        "id": "BlFdvPwF-KYW"
      },
      "source": [
        "In addition to the random search and the grid search methods for selecting optimal hyperparameters, we can use Bayesian methods of probabilities to select the optimal hyperparameters for an algorithm.\n",
        "\n",
        "In this case study, we will be using the BayesianOptimization library to perform hyperparmater tuning. This library has very good documentation which you can find here: https://github.com/fmfn/BayesianOptimization\n",
        "\n",
        "You will need to install the Bayesian optimization module. Running a cell with an exclamation point in the beginning of the command will run it as a shell command — please do this to install this module from our notebook in the cell below."
      ]
    },
    {
      "cell_type": "code",
      "execution_count": 3,
      "metadata": {
        "colab": {
          "base_uri": "https://localhost:8080/"
        },
        "id": "Pssx080d-Ulf",
        "outputId": "9dd7268f-970a-4f1d-a269-ab9c204378a8"
      },
      "outputs": [
        {
          "output_type": "stream",
          "name": "stdout",
          "text": [
            "Collecting catboost\n",
            "  Downloading catboost-1.0.3-cp37-none-manylinux1_x86_64.whl (76.3 MB)\n",
            "\u001b[K     |████████████████████████████████| 76.3 MB 1.2 MB/s \n",
            "\u001b[?25hRequirement already satisfied: graphviz in /usr/local/lib/python3.7/dist-packages (from catboost) (0.10.1)\n",
            "Requirement already satisfied: numpy>=1.16.0 in /usr/local/lib/python3.7/dist-packages (from catboost) (1.19.5)\n",
            "Requirement already satisfied: plotly in /usr/local/lib/python3.7/dist-packages (from catboost) (4.4.1)\n",
            "Requirement already satisfied: six in /usr/local/lib/python3.7/dist-packages (from catboost) (1.15.0)\n",
            "Requirement already satisfied: matplotlib in /usr/local/lib/python3.7/dist-packages (from catboost) (3.2.2)\n",
            "Requirement already satisfied: pandas>=0.24.0 in /usr/local/lib/python3.7/dist-packages (from catboost) (1.1.5)\n",
            "Requirement already satisfied: scipy in /usr/local/lib/python3.7/dist-packages (from catboost) (1.4.1)\n",
            "Requirement already satisfied: pytz>=2017.2 in /usr/local/lib/python3.7/dist-packages (from pandas>=0.24.0->catboost) (2018.9)\n",
            "Requirement already satisfied: python-dateutil>=2.7.3 in /usr/local/lib/python3.7/dist-packages (from pandas>=0.24.0->catboost) (2.8.2)\n",
            "Requirement already satisfied: kiwisolver>=1.0.1 in /usr/local/lib/python3.7/dist-packages (from matplotlib->catboost) (1.3.2)\n",
            "Requirement already satisfied: pyparsing!=2.0.4,!=2.1.2,!=2.1.6,>=2.0.1 in /usr/local/lib/python3.7/dist-packages (from matplotlib->catboost) (3.0.6)\n",
            "Requirement already satisfied: cycler>=0.10 in /usr/local/lib/python3.7/dist-packages (from matplotlib->catboost) (0.11.0)\n",
            "Requirement already satisfied: retrying>=1.3.3 in /usr/local/lib/python3.7/dist-packages (from plotly->catboost) (1.3.3)\n",
            "Installing collected packages: catboost\n",
            "Successfully installed catboost-1.0.3\n"
          ]
        }
      ],
      "source": [
        "!pip install catboost"
      ]
    },
    {
      "cell_type": "code",
      "execution_count": 6,
      "metadata": {
        "ExecuteTime": {
          "end_time": "2019-04-22T16:39:09.312682Z",
          "start_time": "2019-04-22T16:39:09.309208Z"
        },
        "_kg_hide-input": true,
        "id": "l9nfFTyj-KYY"
      },
      "outputs": [],
      "source": [
        "import warnings\n",
        "warnings.filterwarnings('ignore')\n",
        "from sklearn.preprocessing import LabelEncoder\n",
        "import numpy as np\n",
        "import pandas as pd\n",
        "import lightgbm\n",
        "from bayes_opt import BayesianOptimization\n",
        "from catboost import CatBoostClassifier, cv, Pool\n",
        "from google.colab import drive\n",
        " "
      ]
    },
    {
      "cell_type": "code",
      "source": [
        "# mounting the google drive if using the colab environment\n",
        "drive.mount('/content/drive')"
      ],
      "metadata": {
        "colab": {
          "base_uri": "https://localhost:8080/"
        },
        "id": "17zojK3gMe8F",
        "outputId": "0431528b-69e8-482b-cad6-b11ca91563eb"
      },
      "execution_count": 8,
      "outputs": [
        {
          "output_type": "stream",
          "name": "stdout",
          "text": [
            "Mounted at /content/drive\n"
          ]
        }
      ]
    },
    {
      "cell_type": "code",
      "execution_count": 5,
      "metadata": {
        "colab": {
          "base_uri": "https://localhost:8080/"
        },
        "id": "D16Dquw1AAK0",
        "outputId": "f249864d-4ffd-4383-92d2-95d261e94f13"
      },
      "outputs": [
        {
          "output_type": "execute_result",
          "data": {
            "text/plain": [
              "['.config', 'sample_data']"
            ]
          },
          "metadata": {},
          "execution_count": 5
        }
      ],
      "source": [
        "import os\n",
        "os.listdir()"
      ]
    },
    {
      "cell_type": "markdown",
      "metadata": {
        "ExecuteTime": {
          "end_time": "2019-04-22T14:48:15.929012Z",
          "start_time": "2019-04-22T14:48:15.926574Z"
        },
        "id": "AkBt3yds-KYu"
      },
      "source": [
        "## How does Bayesian optimization work?"
      ]
    },
    {
      "cell_type": "markdown",
      "metadata": {
        "id": "E1kyBCUs-KYv"
      },
      "source": [
        "Bayesian optimization works by constructing a posterior distribution of functions (Gaussian process) that best describes the function you want to optimize. As the number of observations grows, the posterior distribution improves, and the algorithm becomes more certain of which regions in parameter space are worth exploring and which are not, as seen in the picture below."
      ]
    },
    {
      "cell_type": "markdown",
      "metadata": {
        "id": "gAdHF72R-KYw"
      },
      "source": [
        "<img src=\"https://github.com/fmfn/BayesianOptimization/blob/master/examples/bo_example.png?raw=true\" />\n",
        "As you iterate over and over, the algorithm balances its needs of exploration and exploitation while taking into account what it knows about the target function. At each step, a Gaussian Process is fitted to the known samples (points previously explored), and the posterior distribution, combined with an exploration strategy (such as UCB — aka Upper Confidence Bound), or EI (Expected Improvement). This process is used to determine the next point that should be explored (see the gif below).\n",
        "<img src=\"https://github.com/fmfn/BayesianOptimization/raw/master/examples/bayesian_optimization.gif\" />"
      ]
    },
    {
      "cell_type": "markdown",
      "metadata": {
        "id": "RTP8KUlLoYzu"
      },
      "source": [
        "## Let's look at a simple example"
      ]
    },
    {
      "cell_type": "markdown",
      "metadata": {
        "id": "crpPqKdC-KYx"
      },
      "source": [
        "The first step is to create an optimizer. It uses two items:\n",
        "* function to optimize\n",
        "* bounds of parameters\n",
        "\n",
        "The function is the procedure that counts metrics of our model quality. The important thing is that our optimization will maximize the value on function. Smaller metrics are best. Hint: don't forget to use negative metric values."
      ]
    },
    {
      "cell_type": "markdown",
      "metadata": {
        "id": "e09ciF8gpTfr"
      },
      "source": [
        "Here we define our simple function we want to optimize."
      ]
    },
    {
      "cell_type": "code",
      "execution_count": 9,
      "metadata": {
        "id": "ofwvnfEwo5mG"
      },
      "outputs": [],
      "source": [
        "def simple_func(a, b):\n",
        "    return a + b"
      ]
    },
    {
      "cell_type": "markdown",
      "metadata": {
        "id": "XCGsdciCpeI3"
      },
      "source": [
        "Now, we define our bounds of the parameters to optimize, within the Bayesian optimizer."
      ]
    },
    {
      "cell_type": "code",
      "execution_count": 20,
      "metadata": {
        "id": "4jLYW2qnpOFr"
      },
      "outputs": [],
      "source": [
        "optimizer = BayesianOptimization(\n",
        "    simple_func,\n",
        "    {'a': (1, 3),\n",
        "    'b': (4, 7)})"
      ]
    },
    {
      "cell_type": "markdown",
      "metadata": {
        "id": "dg6LdYx8pq2T"
      },
      "source": [
        "These are the main parameters of this function:\n",
        "\n",
        "* **n_iter:** This is how many steps of Bayesian optimization you want to perform. The more steps, the more likely you are to find a good maximum.\n",
        "\n",
        "* **init_points:** This is how many steps of random exploration you want to perform. Random exploration can help by diversifying the exploration space."
      ]
    },
    {
      "cell_type": "markdown",
      "metadata": {
        "id": "i-GKMJ1uqMYv"
      },
      "source": [
        "Let's run an example where we use the optimizer to find the best values to maximize the target value for a and b given the inputs of 3 and 2."
      ]
    },
    {
      "cell_type": "code",
      "execution_count": 22,
      "metadata": {
        "colab": {
          "base_uri": "https://localhost:8080/"
        },
        "id": "Oy44Ro7wqNat",
        "outputId": "ce02e190-5501-44fc-8763-13c5a29b7b08"
      },
      "outputs": [
        {
          "output_type": "stream",
          "name": "stdout",
          "text": [
            "|   iter    |  target   |     a     |     b     |\n",
            "-------------------------------------------------\n",
            "| \u001b[0m 6       \u001b[0m | \u001b[0m 6.636   \u001b[0m | \u001b[0m 1.597   \u001b[0m | \u001b[0m 5.039   \u001b[0m |\n",
            "| \u001b[0m 7       \u001b[0m | \u001b[0m 8.001   \u001b[0m | \u001b[0m 2.297   \u001b[0m | \u001b[0m 5.704   \u001b[0m |\n",
            "| \u001b[0m 8       \u001b[0m | \u001b[0m 8.738   \u001b[0m | \u001b[0m 1.97    \u001b[0m | \u001b[0m 6.768   \u001b[0m |\n",
            "| \u001b[95m 9       \u001b[0m | \u001b[95m 10.0    \u001b[0m | \u001b[95m 3.0     \u001b[0m | \u001b[95m 7.0     \u001b[0m |\n",
            "| \u001b[0m 10      \u001b[0m | \u001b[0m 10.0    \u001b[0m | \u001b[0m 3.0     \u001b[0m | \u001b[0m 7.0     \u001b[0m |\n",
            "=================================================\n"
          ]
        }
      ],
      "source": [
        "optimizer.maximize(3,2)"
      ]
    },
    {
      "cell_type": "markdown",
      "metadata": {
        "id": "tyKFMF2Hq2Sx"
      },
      "source": [
        "Great, now let's print the best parameters and the associated maximized target."
      ]
    },
    {
      "cell_type": "code",
      "execution_count": 23,
      "metadata": {
        "colab": {
          "base_uri": "https://localhost:8080/"
        },
        "id": "_H6DixyfscV_",
        "outputId": "f8a605eb-823a-4446-91bd-85620001c85d"
      },
      "outputs": [
        {
          "output_type": "stream",
          "name": "stdout",
          "text": [
            "{'a': 3.0, 'b': 7.0}\n"
          ]
        },
        {
          "output_type": "execute_result",
          "data": {
            "text/plain": [
              "10.0"
            ]
          },
          "metadata": {},
          "execution_count": 23
        }
      ],
      "source": [
        "print(optimizer.max['params']);optimizer.max['target']"
      ]
    },
    {
      "cell_type": "markdown",
      "metadata": {
        "id": "tQ1T1V6Mspi4"
      },
      "source": [
        "## Test it on real data using the Light GBM"
      ]
    },
    {
      "cell_type": "markdown",
      "metadata": {
        "id": "y_oGwREZkm4h"
      },
      "source": [
        "The dataset we will be working with is the famous flight departures dataset. Our modeling goal will be to predict if a flight departure is going to be delayed by 15 minutes based on the other attributes in our dataset. As part of this modeling exercise, we will use Bayesian hyperparameter optimization to identify the best parameters for our model."
      ]
    },
    {
      "cell_type": "markdown",
      "metadata": {
        "id": "abYSagjQANDZ"
      },
      "source": [
        "**<font color='teal'> You can load the zipped csv files just as you would regular csv files using Pandas read_csv. In the next cell load the train and test data into two seperate dataframes. </font>**\n"
      ]
    },
    {
      "cell_type": "code",
      "execution_count": 35,
      "metadata": {
        "id": "EWKBApVuAeJe"
      },
      "outputs": [],
      "source": [
        "fpath_train = '/content/drive/My Drive/Springboard/Case Study - Bayesian Optimization/flight_delays_train.csv.zip'\n",
        "fpath_test = '/content/drive/My Drive/Springboard/Case Study - Bayesian Optimization/flight_delays_test.csv.zip'\n",
        "train_df = pd.read_csv(fpath_train)\n",
        "test_df = pd.read_csv(fpath_test)"
      ]
    },
    {
      "cell_type": "markdown",
      "metadata": {
        "id": "OapNcT9Eikis"
      },
      "source": [
        "**<font color='teal'> Print the top five rows of the train dataframe and review the columns in the data. </font>**"
      ]
    },
    {
      "cell_type": "code",
      "execution_count": 28,
      "metadata": {
        "colab": {
          "base_uri": "https://localhost:8080/",
          "height": 206
        },
        "id": "__4cXZ8iiYaC",
        "outputId": "4dc1e500-538b-4831-da30-daa030c3a0f8"
      },
      "outputs": [
        {
          "output_type": "execute_result",
          "data": {
            "text/html": [
              "<div>\n",
              "<style scoped>\n",
              "    .dataframe tbody tr th:only-of-type {\n",
              "        vertical-align: middle;\n",
              "    }\n",
              "\n",
              "    .dataframe tbody tr th {\n",
              "        vertical-align: top;\n",
              "    }\n",
              "\n",
              "    .dataframe thead th {\n",
              "        text-align: right;\n",
              "    }\n",
              "</style>\n",
              "<table border=\"1\" class=\"dataframe\">\n",
              "  <thead>\n",
              "    <tr style=\"text-align: right;\">\n",
              "      <th></th>\n",
              "      <th>Month</th>\n",
              "      <th>DayofMonth</th>\n",
              "      <th>DayOfWeek</th>\n",
              "      <th>DepTime</th>\n",
              "      <th>UniqueCarrier</th>\n",
              "      <th>Origin</th>\n",
              "      <th>Dest</th>\n",
              "      <th>Distance</th>\n",
              "      <th>dep_delayed_15min</th>\n",
              "    </tr>\n",
              "  </thead>\n",
              "  <tbody>\n",
              "    <tr>\n",
              "      <th>0</th>\n",
              "      <td>c-8</td>\n",
              "      <td>c-21</td>\n",
              "      <td>c-7</td>\n",
              "      <td>1934</td>\n",
              "      <td>AA</td>\n",
              "      <td>ATL</td>\n",
              "      <td>DFW</td>\n",
              "      <td>732</td>\n",
              "      <td>N</td>\n",
              "    </tr>\n",
              "    <tr>\n",
              "      <th>1</th>\n",
              "      <td>c-4</td>\n",
              "      <td>c-20</td>\n",
              "      <td>c-3</td>\n",
              "      <td>1548</td>\n",
              "      <td>US</td>\n",
              "      <td>PIT</td>\n",
              "      <td>MCO</td>\n",
              "      <td>834</td>\n",
              "      <td>N</td>\n",
              "    </tr>\n",
              "    <tr>\n",
              "      <th>2</th>\n",
              "      <td>c-9</td>\n",
              "      <td>c-2</td>\n",
              "      <td>c-5</td>\n",
              "      <td>1422</td>\n",
              "      <td>XE</td>\n",
              "      <td>RDU</td>\n",
              "      <td>CLE</td>\n",
              "      <td>416</td>\n",
              "      <td>N</td>\n",
              "    </tr>\n",
              "    <tr>\n",
              "      <th>3</th>\n",
              "      <td>c-11</td>\n",
              "      <td>c-25</td>\n",
              "      <td>c-6</td>\n",
              "      <td>1015</td>\n",
              "      <td>OO</td>\n",
              "      <td>DEN</td>\n",
              "      <td>MEM</td>\n",
              "      <td>872</td>\n",
              "      <td>N</td>\n",
              "    </tr>\n",
              "    <tr>\n",
              "      <th>4</th>\n",
              "      <td>c-10</td>\n",
              "      <td>c-7</td>\n",
              "      <td>c-6</td>\n",
              "      <td>1828</td>\n",
              "      <td>WN</td>\n",
              "      <td>MDW</td>\n",
              "      <td>OMA</td>\n",
              "      <td>423</td>\n",
              "      <td>Y</td>\n",
              "    </tr>\n",
              "  </tbody>\n",
              "</table>\n",
              "</div>"
            ],
            "text/plain": [
              "  Month DayofMonth DayOfWeek  DepTime  ... Origin Dest Distance  dep_delayed_15min\n",
              "0   c-8       c-21       c-7     1934  ...    ATL  DFW      732                  N\n",
              "1   c-4       c-20       c-3     1548  ...    PIT  MCO      834                  N\n",
              "2   c-9        c-2       c-5     1422  ...    RDU  CLE      416                  N\n",
              "3  c-11       c-25       c-6     1015  ...    DEN  MEM      872                  N\n",
              "4  c-10        c-7       c-6     1828  ...    MDW  OMA      423                  Y\n",
              "\n",
              "[5 rows x 9 columns]"
            ]
          },
          "metadata": {},
          "execution_count": 28
        }
      ],
      "source": [
        "train_df.head()"
      ]
    },
    {
      "cell_type": "markdown",
      "metadata": {
        "id": "UxGBsPQhffgd"
      },
      "source": [
        "**<font color='teal'> Use the describe function to review the numeric columns in the train dataframe. </font>**"
      ]
    },
    {
      "cell_type": "code",
      "execution_count": 30,
      "metadata": {
        "colab": {
          "base_uri": "https://localhost:8080/",
          "height": 112
        },
        "id": "_bRRKG3DAtae",
        "outputId": "7531d4bf-4699-4405-91f6-15b6846b1d68"
      },
      "outputs": [
        {
          "output_type": "execute_result",
          "data": {
            "text/html": [
              "<div>\n",
              "<style scoped>\n",
              "    .dataframe tbody tr th:only-of-type {\n",
              "        vertical-align: middle;\n",
              "    }\n",
              "\n",
              "    .dataframe tbody tr th {\n",
              "        vertical-align: top;\n",
              "    }\n",
              "\n",
              "    .dataframe thead th {\n",
              "        text-align: right;\n",
              "    }\n",
              "</style>\n",
              "<table border=\"1\" class=\"dataframe\">\n",
              "  <thead>\n",
              "    <tr style=\"text-align: right;\">\n",
              "      <th></th>\n",
              "      <th>count</th>\n",
              "      <th>mean</th>\n",
              "      <th>std</th>\n",
              "      <th>min</th>\n",
              "      <th>25%</th>\n",
              "      <th>50%</th>\n",
              "      <th>75%</th>\n",
              "      <th>max</th>\n",
              "    </tr>\n",
              "  </thead>\n",
              "  <tbody>\n",
              "    <tr>\n",
              "      <th>DepTime</th>\n",
              "      <td>100000.0</td>\n",
              "      <td>1341.52388</td>\n",
              "      <td>476.378445</td>\n",
              "      <td>1.0</td>\n",
              "      <td>931.0</td>\n",
              "      <td>1330.0</td>\n",
              "      <td>1733.0</td>\n",
              "      <td>2534.0</td>\n",
              "    </tr>\n",
              "    <tr>\n",
              "      <th>Distance</th>\n",
              "      <td>100000.0</td>\n",
              "      <td>729.39716</td>\n",
              "      <td>574.616860</td>\n",
              "      <td>30.0</td>\n",
              "      <td>317.0</td>\n",
              "      <td>575.0</td>\n",
              "      <td>957.0</td>\n",
              "      <td>4962.0</td>\n",
              "    </tr>\n",
              "  </tbody>\n",
              "</table>\n",
              "</div>"
            ],
            "text/plain": [
              "             count        mean         std   min    25%     50%     75%     max\n",
              "DepTime   100000.0  1341.52388  476.378445   1.0  931.0  1330.0  1733.0  2534.0\n",
              "Distance  100000.0   729.39716  574.616860  30.0  317.0   575.0   957.0  4962.0"
            ]
          },
          "metadata": {},
          "execution_count": 30
        }
      ],
      "source": [
        "train_df.describe().T"
      ]
    },
    {
      "cell_type": "markdown",
      "metadata": {
        "id": "i6k-_fI5Aiyh"
      },
      "source": [
        "Notice, `DepTime` is the departure time in a numeric representation in 2400 hours. "
      ]
    },
    {
      "cell_type": "markdown",
      "metadata": {
        "id": "gtZS4-hrlQah"
      },
      "source": [
        " **<font color='teal'>The response variable is 'dep_delayed_15min' which is a categorical column, so we need to map the Y for yes and N for no values to 1 and 0. Run the code in the next cell to do this.</font>**"
      ]
    },
    {
      "cell_type": "code",
      "execution_count": 41,
      "metadata": {
        "ExecuteTime": {
          "end_time": "2019-04-22T15:38:42.677690Z",
          "start_time": "2019-04-22T15:38:42.481963Z"
        },
        "colab": {
          "base_uri": "https://localhost:8080/"
        },
        "id": "yRlOTbnW-KYc",
        "outputId": "564b3258-7b63-491d-d382-93db33eab33e"
      },
      "outputs": [
        {
          "output_type": "execute_result",
          "data": {
            "text/plain": [
              "array([0, 1])"
            ]
          },
          "metadata": {},
          "execution_count": 41
        }
      ],
      "source": [
        "#train_df = train_df[train_df.DepTime <= 2400].copy()\n",
        "y_train = train_df['dep_delayed_15min'].map({'Y': 1, 'N': 0}).values\n",
        "np.unique(y_train)"
      ]
    },
    {
      "cell_type": "markdown",
      "metadata": {
        "id": "z3WPkFQO9uo9"
      },
      "source": [
        "## Feature Engineering\n",
        "Use these defined functions to create additional features for the model. Run the cell to add the functions to your workspace."
      ]
    },
    {
      "cell_type": "code",
      "execution_count": 42,
      "metadata": {
        "id": "cXqsqz5W9t3r"
      },
      "outputs": [],
      "source": [
        "def label_enc(df_column):\n",
        "    df_column = LabelEncoder().fit_transform(df_column)\n",
        "    return df_column\n",
        "\n",
        "def make_harmonic_features_sin(value, period=2400):\n",
        "    value *= 2 * np.pi / period \n",
        "    return np.sin(value)\n",
        "\n",
        "def make_harmonic_features_cos(value, period=2400):\n",
        "    value *= 2 * np.pi / period \n",
        "    return np.cos(value)\n",
        "\n",
        "def feature_eng(df):\n",
        "    df['flight'] = df['Origin']+df['Dest']\n",
        "    df['Month'] = df.Month.map(lambda x: x.split('-')[-1]).astype('int32')\n",
        "    df['DayofMonth'] = df.DayofMonth.map(lambda x: x.split('-')[-1]).astype('uint8')\n",
        "    df['begin_of_month'] = (df['DayofMonth'] < 10).astype('uint8')\n",
        "    df['midddle_of_month'] = ((df['DayofMonth'] >= 10)&(df['DayofMonth'] < 20)).astype('uint8')\n",
        "    df['end_of_month'] = (df['DayofMonth'] >= 20).astype('uint8')\n",
        "    df['DayOfWeek'] = df.DayOfWeek.map(lambda x: x.split('-')[-1]).astype('uint8')\n",
        "    df['hour'] = df.DepTime.map(lambda x: x/100).astype('int32')\n",
        "    df['morning'] = df['hour'].map(lambda x: 1 if (x <= 11)& (x >= 7) else 0).astype('uint8')\n",
        "    df['day'] = df['hour'].map(lambda x: 1 if (x >= 12) & (x <= 18) else 0).astype('uint8')\n",
        "    df['evening'] = df['hour'].map(lambda x: 1 if (x >= 19) & (x <= 23) else 0).astype('uint8')\n",
        "    df['night'] = df['hour'].map(lambda x: 1 if (x >= 0) & (x <= 6) else 0).astype('int32')\n",
        "    df['winter'] = df['Month'].map(lambda x: x in [12, 1, 2]).astype('int32')\n",
        "    df['spring'] = df['Month'].map(lambda x: x in [3, 4, 5]).astype('int32')\n",
        "    df['summer'] = df['Month'].map(lambda x: x in [6, 7, 8]).astype('int32')\n",
        "    df['autumn'] = df['Month'].map(lambda x: x in [9, 10, 11]).astype('int32')\n",
        "    df['holiday'] = (df['DayOfWeek'] >= 5).astype(int) \n",
        "    df['weekday'] = (df['DayOfWeek'] < 5).astype(int)\n",
        "    df['airport_dest_per_month'] = df.groupby(['Dest', 'Month'])['Dest'].transform('count')\n",
        "    df['airport_origin_per_month'] = df.groupby(['Origin', 'Month'])['Origin'].transform('count')\n",
        "    df['airport_dest_count'] = df.groupby(['Dest'])['Dest'].transform('count')\n",
        "    df['airport_origin_count'] = df.groupby(['Origin'])['Origin'].transform('count')\n",
        "    df['carrier_count'] = df.groupby(['UniqueCarrier'])['Dest'].transform('count')\n",
        "    df['carrier_count_per month'] = df.groupby(['UniqueCarrier', 'Month'])['Dest'].transform('count')\n",
        "    df['deptime_cos'] = df['DepTime'].map(make_harmonic_features_cos)\n",
        "    df['deptime_sin'] = df['DepTime'].map(make_harmonic_features_sin)\n",
        "    df['flightUC'] = df['flight']+df['UniqueCarrier']\n",
        "    df['DestUC'] = df['Dest']+df['UniqueCarrier']\n",
        "    df['OriginUC'] = df['Origin']+df['UniqueCarrier']\n",
        "    return df.drop('DepTime', axis=1)"
      ]
    },
    {
      "cell_type": "markdown",
      "metadata": {
        "id": "-BYbxXpU-FGE"
      },
      "source": [
        "Concatenate the training and testing dataframes.\n"
      ]
    },
    {
      "cell_type": "code",
      "execution_count": 43,
      "metadata": {
        "id": "Cj6bfSNw_RAf"
      },
      "outputs": [],
      "source": [
        "full_df = pd.concat([train_df.drop('dep_delayed_15min', axis=1), test_df])\n",
        "full_df = feature_eng(full_df)"
      ]
    },
    {
      "cell_type": "markdown",
      "metadata": {
        "id": "GSO8JbfM_W-F"
      },
      "source": [
        "Apply the earlier defined feature engineering functions to the full dataframe."
      ]
    },
    {
      "cell_type": "code",
      "execution_count": 47,
      "metadata": {
        "id": "x6RfAINftjwi"
      },
      "outputs": [],
      "source": [
        "for column in ['UniqueCarrier', 'Origin', 'Dest','flight',  'flightUC', 'DestUC', 'OriginUC']:\n",
        "    full_df[column] = label_enc(full_df[column])"
      ]
    },
    {
      "cell_type": "markdown",
      "metadata": {
        "id": "IJAw1RGB_ZuM"
      },
      "source": [
        "\n",
        "Split the new full dataframe into X_train and X_test. "
      ]
    },
    {
      "cell_type": "code",
      "execution_count": 48,
      "metadata": {
        "id": "15cPtQU5tjfz"
      },
      "outputs": [],
      "source": [
        "X_train = full_df[:train_df.shape[0]]\n",
        "X_test = full_df[train_df.shape[0]:]"
      ]
    },
    {
      "cell_type": "markdown",
      "metadata": {
        "id": "umfAw-9JErLV"
      },
      "source": [
        "Create a list of the categorical features."
      ]
    },
    {
      "cell_type": "code",
      "execution_count": 49,
      "metadata": {
        "ExecuteTime": {
          "end_time": "2019-04-22T14:31:58.412296Z",
          "start_time": "2019-04-22T14:31:58.409088Z"
        },
        "id": "5ibeVyNb-KZI"
      },
      "outputs": [],
      "source": [
        "categorical_features = ['Month',  'DayOfWeek', 'UniqueCarrier', 'Origin', 'Dest','flight',  'flightUC', 'DestUC', 'OriginUC']"
      ]
    },
    {
      "cell_type": "markdown",
      "metadata": {
        "id": "NzMIsMPIETVk"
      },
      "source": [
        "Let's build a light GBM model to test the bayesian optimizer."
      ]
    },
    {
      "cell_type": "markdown",
      "metadata": {
        "ExecuteTime": {
          "end_time": "2019-04-22T15:18:04.466965Z",
          "start_time": "2019-04-22T15:18:04.457992Z"
        },
        "id": "2hfm1i5G-KZH"
      },
      "source": [
        "### [LightGBM](https://lightgbm.readthedocs.io/en/latest/) is a gradient boosting framework that uses tree-based learning algorithms. It is designed to be distributed and efficient with the following advantages:\n",
        "\n",
        "* Faster training speed and higher efficiency.\n",
        "* Lower memory usage.\n",
        "* Better accuracy.\n",
        "* Support of parallel and GPU learning.\n",
        "* Capable of handling large-scale data."
      ]
    },
    {
      "cell_type": "markdown",
      "metadata": {
        "id": "jf-3F2Wg-KZL"
      },
      "source": [
        "First, we define the function we want to maximize and that will count cross-validation metrics of lightGBM for our parameters.\n",
        "\n",
        "Some params such as num_leaves, max_depth, min_child_samples, min_data_in_leaf should be integers."
      ]
    },
    {
      "cell_type": "code",
      "execution_count": 50,
      "metadata": {
        "ExecuteTime": {
          "end_time": "2019-04-22T15:40:14.034265Z",
          "start_time": "2019-04-22T15:40:14.027868Z"
        },
        "id": "LyUJBhGX-KZM"
      },
      "outputs": [],
      "source": [
        "def lgb_eval(num_leaves,max_depth,lambda_l2,lambda_l1,min_child_samples, min_data_in_leaf):\n",
        "    params = {\n",
        "        \"objective\" : \"binary\",\n",
        "        \"metric\" : \"auc\", \n",
        "        'is_unbalance': True,\n",
        "        \"num_leaves\" : int(num_leaves),\n",
        "        \"max_depth\" : int(max_depth),\n",
        "        \"lambda_l2\" : lambda_l2,\n",
        "        \"lambda_l1\" : lambda_l1,\n",
        "        \"num_threads\" : 20,\n",
        "        \"min_child_samples\" : int(min_child_samples),\n",
        "        'min_data_in_leaf': int(min_data_in_leaf),\n",
        "        \"learning_rate\" : 0.03,\n",
        "        \"subsample_freq\" : 5,\n",
        "        \"bagging_seed\" : 42,\n",
        "        \"verbosity\" : -1\n",
        "    }\n",
        "    lgtrain = lightgbm.Dataset(X_train, y_train,categorical_feature=categorical_features)\n",
        "    cv_result = lightgbm.cv(params,\n",
        "                       lgtrain,\n",
        "                       1000,\n",
        "                       early_stopping_rounds=100,\n",
        "                       stratified=True,\n",
        "                       nfold=3)\n",
        "    return cv_result['auc-mean'][-1]"
      ]
    },
    {
      "cell_type": "markdown",
      "metadata": {
        "id": "FJwqBhdeF11Q"
      },
      "source": [
        "Apply the Bayesian optimizer to the function we created in the previous step to identify the best hyperparameters. We will run 10 iterations and set init_points = 2.\n"
      ]
    },
    {
      "cell_type": "code",
      "execution_count": 51,
      "metadata": {
        "ExecuteTime": {
          "end_time": "2019-04-22T15:48:04.682447Z",
          "start_time": "2019-04-22T15:40:14.641634Z"
        },
        "colab": {
          "base_uri": "https://localhost:8080/"
        },
        "id": "JheCOkUE-KZP",
        "outputId": "85e746b3-3d5e-48eb-defc-d406d1cdf681"
      },
      "outputs": [
        {
          "output_type": "stream",
          "name": "stdout",
          "text": [
            "|   iter    |  target   | lambda_l1 | lambda_l2 | max_depth | min_ch... | min_da... | num_le... |\n",
            "-------------------------------------------------------------------------------------------------\n",
            "| \u001b[0m 1       \u001b[0m | \u001b[0m 0.7167  \u001b[0m | \u001b[0m 0.01851 \u001b[0m | \u001b[0m 0.005194\u001b[0m | \u001b[0m 46.77   \u001b[0m | \u001b[0m 5.716e+0\u001b[0m | \u001b[0m 446.3   \u001b[0m | \u001b[0m 1.851e+0\u001b[0m |\n",
            "| \u001b[0m 2       \u001b[0m | \u001b[0m 0.7166  \u001b[0m | \u001b[0m 0.02131 \u001b[0m | \u001b[0m 0.01399 \u001b[0m | \u001b[0m 51.03   \u001b[0m | \u001b[0m 4.255e+0\u001b[0m | \u001b[0m 239.4   \u001b[0m | \u001b[0m 2.518e+0\u001b[0m |\n",
            "| \u001b[95m 3       \u001b[0m | \u001b[95m 0.7433  \u001b[0m | \u001b[95m 0.04705 \u001b[0m | \u001b[95m 0.04132 \u001b[0m | \u001b[95m 28.71   \u001b[0m | \u001b[95m 7.126e+0\u001b[0m | \u001b[95m 1.496e+0\u001b[0m | \u001b[95m 1.417e+0\u001b[0m |\n",
            "| \u001b[95m 4       \u001b[0m | \u001b[95m 0.7434  \u001b[0m | \u001b[95m 0.01029 \u001b[0m | \u001b[95m 0.04763 \u001b[0m | \u001b[95m 8.375   \u001b[0m | \u001b[95m 7.471e+0\u001b[0m | \u001b[95m 1.754e+0\u001b[0m | \u001b[95m 1.574e+0\u001b[0m |\n",
            "| \u001b[0m 5       \u001b[0m | \u001b[0m 0.7431  \u001b[0m | \u001b[0m 0.001363\u001b[0m | \u001b[0m 0.02504 \u001b[0m | \u001b[0m 17.88   \u001b[0m | \u001b[0m 8.199e+0\u001b[0m | \u001b[0m 1.24e+03\u001b[0m | \u001b[0m 112.8   \u001b[0m |\n",
            "| \u001b[95m 6       \u001b[0m | \u001b[95m 0.7436  \u001b[0m | \u001b[95m 0.03957 \u001b[0m | \u001b[95m 0.02986 \u001b[0m | \u001b[95m 21.17   \u001b[0m | \u001b[95m 5.396e+0\u001b[0m | \u001b[95m 1.594e+0\u001b[0m | \u001b[95m 40.45   \u001b[0m |\n",
            "| \u001b[0m 7       \u001b[0m | \u001b[0m 0.7153  \u001b[0m | \u001b[0m 0.01024 \u001b[0m | \u001b[0m 0.007467\u001b[0m | \u001b[0m 48.45   \u001b[0m | \u001b[0m 9.978e+0\u001b[0m | \u001b[0m 365.6   \u001b[0m | \u001b[0m 2.846e+0\u001b[0m |\n",
            "| \u001b[95m 8       \u001b[0m | \u001b[95m 0.7437  \u001b[0m | \u001b[95m 0.003663\u001b[0m | \u001b[95m 0.04094 \u001b[0m | \u001b[95m 12.75   \u001b[0m | \u001b[95m 4.811e+0\u001b[0m | \u001b[95m 1.357e+0\u001b[0m | \u001b[95m 2.748e+0\u001b[0m |\n",
            "| \u001b[0m 9       \u001b[0m | \u001b[0m 0.7434  \u001b[0m | \u001b[0m 0.005405\u001b[0m | \u001b[0m 0.006904\u001b[0m | \u001b[0m 18.96   \u001b[0m | \u001b[0m 7.189e+0\u001b[0m | \u001b[0m 1.845e+0\u001b[0m | \u001b[0m 307.3   \u001b[0m |\n",
            "| \u001b[0m 10      \u001b[0m | \u001b[0m 0.7435  \u001b[0m | \u001b[0m 0.0203  \u001b[0m | \u001b[0m 0.04807 \u001b[0m | \u001b[0m 9.676   \u001b[0m | \u001b[0m 4.694e+0\u001b[0m | \u001b[0m 1.486e+0\u001b[0m | \u001b[0m 3.741e+0\u001b[0m |\n",
            "| \u001b[0m 11      \u001b[0m | \u001b[0m 0.7164  \u001b[0m | \u001b[0m 0.01708 \u001b[0m | \u001b[0m 0.01346 \u001b[0m | \u001b[0m 30.43   \u001b[0m | \u001b[0m 6.479e+0\u001b[0m | \u001b[0m 209.6   \u001b[0m | \u001b[0m 780.3   \u001b[0m |\n",
            "| \u001b[0m 12      \u001b[0m | \u001b[0m 0.7156  \u001b[0m | \u001b[0m 0.007946\u001b[0m | \u001b[0m 0.00839 \u001b[0m | \u001b[0m 32.49   \u001b[0m | \u001b[0m 2.091e+0\u001b[0m | \u001b[0m 409.1   \u001b[0m | \u001b[0m 2.765e+0\u001b[0m |\n",
            "=================================================================================================\n"
          ]
        }
      ],
      "source": [
        "lgbBO = BayesianOptimization(lgb_eval, {'num_leaves': (25, 4000),\n",
        "                                                'max_depth': (5, 63),\n",
        "                                                'lambda_l2': (0.0, 0.05),\n",
        "                                                'lambda_l1': (0.0, 0.05),\n",
        "                                                'min_child_samples': (50, 10000),\n",
        "                                                'min_data_in_leaf': (100, 2000)\n",
        "                                                })\n",
        "\n",
        "lgbBO.maximize(n_iter=10, init_points=2)"
      ]
    },
    {
      "cell_type": "markdown",
      "metadata": {
        "id": "rdkxhhST-KZS"
      },
      "source": [
        " **<font color='teal'> Print the best result by using the '.max' function.</font>**"
      ]
    },
    {
      "cell_type": "code",
      "execution_count": 52,
      "metadata": {
        "ExecuteTime": {
          "end_time": "2019-04-22T15:49:01.513767Z",
          "start_time": "2019-04-22T15:49:01.509392Z"
        },
        "colab": {
          "base_uri": "https://localhost:8080/"
        },
        "id": "oc8z6mfy-KZS",
        "outputId": "927f83c1-c8f8-410d-fde6-ddd0ca5ecf84"
      },
      "outputs": [
        {
          "output_type": "execute_result",
          "data": {
            "text/plain": [
              "{'params': {'lambda_l1': 0.003663060447131339,\n",
              "  'lambda_l2': 0.040937676915825484,\n",
              "  'max_depth': 12.749021545188622,\n",
              "  'min_child_samples': 4811.072520924283,\n",
              "  'min_data_in_leaf': 1356.7606773986458,\n",
              "  'num_leaves': 2748.0911963585104},\n",
              " 'target': 0.7436529813493277}"
            ]
          },
          "metadata": {},
          "execution_count": 52
        }
      ],
      "source": [
        "lgbBO.max"
      ]
    },
    {
      "cell_type": "markdown",
      "metadata": {
        "ExecuteTime": {
          "end_time": "2019-04-22T15:50:29.049881Z",
          "start_time": "2019-04-22T15:50:29.045908Z"
        },
        "id": "J5LAydKC-KZW"
      },
      "source": [
        "Review the process at each step by using the '.res[0]' function."
      ]
    },
    {
      "cell_type": "code",
      "execution_count": 53,
      "metadata": {
        "ExecuteTime": {
          "end_time": "2019-04-22T15:51:01.001688Z",
          "start_time": "2019-04-22T15:51:00.997484Z"
        },
        "colab": {
          "base_uri": "https://localhost:8080/"
        },
        "id": "X1ttZmrI-KZX",
        "outputId": "08e06b31-fa2d-4b8d-ee6c-01329c7eb67f"
      },
      "outputs": [
        {
          "output_type": "execute_result",
          "data": {
            "text/plain": [
              "{'params': {'lambda_l1': 0.018509075896506605,\n",
              "  'lambda_l2': 0.005194405422667404,\n",
              "  'max_depth': 46.773545756179175,\n",
              "  'min_child_samples': 5715.977764486641,\n",
              "  'min_data_in_leaf': 446.30259836700145,\n",
              "  'num_leaves': 1850.8597900811428},\n",
              " 'target': 0.7166513090387093}"
            ]
          },
          "metadata": {},
          "execution_count": 53
        }
      ],
      "source": [
        "lgbBO.res[0]"
      ]
    }
  ],
  "metadata": {
    "colab": {
      "name": "Bayesian_optimization_case_study.ipynb",
      "provenance": [],
      "collapsed_sections": [],
      "include_colab_link": true
    },
    "deepnote_execution_queue": [],
    "kernelspec": {
      "display_name": "Python 3",
      "language": "python",
      "name": "python3"
    },
    "language_info": {
      "codemirror_mode": {
        "name": "ipython",
        "version": 3
      },
      "file_extension": ".py",
      "mimetype": "text/x-python",
      "name": "python",
      "nbconvert_exporter": "python",
      "pygments_lexer": "ipython3",
      "version": "3.7.3"
    },
    "varInspector": {
      "cols": {
        "lenName": 16,
        "lenType": 16,
        "lenVar": 40
      },
      "kernels_config": {
        "python": {
          "delete_cmd_postfix": "",
          "delete_cmd_prefix": "del ",
          "library": "var_list.py",
          "varRefreshCmd": "print(var_dic_list())"
        },
        "r": {
          "delete_cmd_postfix": ") ",
          "delete_cmd_prefix": "rm(",
          "library": "var_list.r",
          "varRefreshCmd": "cat(var_dic_list()) "
        }
      },
      "types_to_exclude": [
        "module",
        "function",
        "builtin_function_or_method",
        "instance",
        "_Feature"
      ],
      "window_display": false
    }
  },
  "nbformat": 4,
  "nbformat_minor": 0
}