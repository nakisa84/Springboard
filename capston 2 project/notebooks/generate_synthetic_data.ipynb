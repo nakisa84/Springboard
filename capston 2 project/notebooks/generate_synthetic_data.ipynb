{
 "cells": [
  {
   "cell_type": "markdown",
   "id": "8307a631",
   "metadata": {
    "id": "8307a631"
   },
   "source": [
    "### In this notebook, data has been upsampled using SMOTE technique:"
   ]
  },
  {
   "cell_type": "code",
   "execution_count": 17,
   "id": "e3ffe217",
   "metadata": {
    "colab": {
     "base_uri": "https://localhost:8080/"
    },
    "executionInfo": {
     "elapsed": 935,
     "status": "ok",
     "timestamp": 1632930542399,
     "user": {
      "displayName": "Nakisa Abbasi",
      "photoUrl": "https://lh3.googleusercontent.com/a-/AOh14Gg_q2Wn8wlRSE1B6rC3mTaYu9lv9zBvUr9ZIBzda3w=s64",
      "userId": "05148225177351954982"
     },
     "user_tz": 240
    },
    "id": "e3ffe217",
    "outputId": "1fbed5ae-b716-4ca3-cb90-305747483918"
   },
   "outputs": [],
   "source": [
    "import matplotlib.pyplot as plt\n",
    "import pandas as pd\n",
    "import random\n",
    "import numpy as np\n",
    "import math\n",
    "\n",
    "from sklearn.metrics import confusion_matrix\n",
    "from sklearn.model_selection import train_test_split\n",
    "from sklearn.ensemble import RandomForestClassifier\n",
    "from imblearn.over_sampling import SMOTE"
   ]
  },
  {
   "cell_type": "code",
   "execution_count": 18,
   "id": "ZRFVur5XP6Mh",
   "metadata": {
    "colab": {
     "base_uri": "https://localhost:8080/"
    },
    "executionInfo": {
     "elapsed": 18294,
     "status": "ok",
     "timestamp": 1632930623419,
     "user": {
      "displayName": "Nakisa Abbasi",
      "photoUrl": "https://lh3.googleusercontent.com/a-/AOh14Gg_q2Wn8wlRSE1B6rC3mTaYu9lv9zBvUr9ZIBzda3w=s64",
      "userId": "05148225177351954982"
     },
     "user_tz": 240
    },
    "id": "ZRFVur5XP6Mh",
    "outputId": "f4653e9e-a3e1-40ec-cda3-8635b49770a2"
   },
   "outputs": [],
   "source": [
    "# from google.colab import drive\n",
    "# drive.mount('/content/drive')"
   ]
  },
  {
   "cell_type": "code",
   "execution_count": 19,
   "id": "e187520d",
   "metadata": {
    "colab": {
     "base_uri": "https://localhost:8080/",
     "height": 224
    },
    "executionInfo": {
     "elapsed": 112,
     "status": "ok",
     "timestamp": 1632930631248,
     "user": {
      "displayName": "Nakisa Abbasi",
      "photoUrl": "https://lh3.googleusercontent.com/a-/AOh14Gg_q2Wn8wlRSE1B6rC3mTaYu9lv9zBvUr9ZIBzda3w=s64",
      "userId": "05148225177351954982"
     },
     "user_tz": 240
    },
    "id": "e187520d",
    "outputId": "f5a95202-ca21-41c1-f325-0f3d1153afc9"
   },
   "outputs": [
    {
     "data": {
      "text/html": [
       "<div>\n",
       "<style scoped>\n",
       "    .dataframe tbody tr th:only-of-type {\n",
       "        vertical-align: middle;\n",
       "    }\n",
       "\n",
       "    .dataframe tbody tr th {\n",
       "        vertical-align: top;\n",
       "    }\n",
       "\n",
       "    .dataframe thead th {\n",
       "        text-align: right;\n",
       "    }\n",
       "</style>\n",
       "<table border=\"1\" class=\"dataframe\">\n",
       "  <thead>\n",
       "    <tr style=\"text-align: right;\">\n",
       "      <th></th>\n",
       "      <th>Tumor Size</th>\n",
       "      <th>Regional Node Examined</th>\n",
       "      <th>Reginol Node Positive</th>\n",
       "      <th>Race_Other</th>\n",
       "      <th>Race_White</th>\n",
       "      <th>Marital Status_Married</th>\n",
       "      <th>Marital Status_Separated</th>\n",
       "      <th>Marital Status_Single</th>\n",
       "      <th>Marital Status_Widowed</th>\n",
       "      <th>T Stage_T2</th>\n",
       "      <th>...</th>\n",
       "      <th>6th Stage_IIIA</th>\n",
       "      <th>6th Stage_IIIB</th>\n",
       "      <th>6th Stage_IIIC</th>\n",
       "      <th>Grade_Grade II</th>\n",
       "      <th>Grade_Grade III</th>\n",
       "      <th>Grade_anaplastic</th>\n",
       "      <th>A Stage_Regional</th>\n",
       "      <th>Estrogen Status_Positive</th>\n",
       "      <th>Progesterone Status_Positive</th>\n",
       "      <th>Status</th>\n",
       "    </tr>\n",
       "  </thead>\n",
       "  <tbody>\n",
       "    <tr>\n",
       "      <th>0</th>\n",
       "      <td>40</td>\n",
       "      <td>19</td>\n",
       "      <td>11</td>\n",
       "      <td>1</td>\n",
       "      <td>0</td>\n",
       "      <td>1</td>\n",
       "      <td>0</td>\n",
       "      <td>0</td>\n",
       "      <td>0</td>\n",
       "      <td>1</td>\n",
       "      <td>...</td>\n",
       "      <td>0</td>\n",
       "      <td>0</td>\n",
       "      <td>1</td>\n",
       "      <td>1</td>\n",
       "      <td>0</td>\n",
       "      <td>0</td>\n",
       "      <td>1</td>\n",
       "      <td>1</td>\n",
       "      <td>1</td>\n",
       "      <td>0</td>\n",
       "    </tr>\n",
       "    <tr>\n",
       "      <th>1</th>\n",
       "      <td>45</td>\n",
       "      <td>25</td>\n",
       "      <td>9</td>\n",
       "      <td>1</td>\n",
       "      <td>0</td>\n",
       "      <td>1</td>\n",
       "      <td>0</td>\n",
       "      <td>0</td>\n",
       "      <td>0</td>\n",
       "      <td>1</td>\n",
       "      <td>...</td>\n",
       "      <td>1</td>\n",
       "      <td>0</td>\n",
       "      <td>0</td>\n",
       "      <td>1</td>\n",
       "      <td>0</td>\n",
       "      <td>0</td>\n",
       "      <td>1</td>\n",
       "      <td>1</td>\n",
       "      <td>1</td>\n",
       "      <td>0</td>\n",
       "    </tr>\n",
       "    <tr>\n",
       "      <th>2</th>\n",
       "      <td>25</td>\n",
       "      <td>4</td>\n",
       "      <td>1</td>\n",
       "      <td>0</td>\n",
       "      <td>1</td>\n",
       "      <td>1</td>\n",
       "      <td>0</td>\n",
       "      <td>0</td>\n",
       "      <td>0</td>\n",
       "      <td>1</td>\n",
       "      <td>...</td>\n",
       "      <td>0</td>\n",
       "      <td>0</td>\n",
       "      <td>0</td>\n",
       "      <td>0</td>\n",
       "      <td>1</td>\n",
       "      <td>0</td>\n",
       "      <td>1</td>\n",
       "      <td>1</td>\n",
       "      <td>1</td>\n",
       "      <td>1</td>\n",
       "    </tr>\n",
       "    <tr>\n",
       "      <th>3</th>\n",
       "      <td>19</td>\n",
       "      <td>26</td>\n",
       "      <td>1</td>\n",
       "      <td>0</td>\n",
       "      <td>1</td>\n",
       "      <td>0</td>\n",
       "      <td>0</td>\n",
       "      <td>0</td>\n",
       "      <td>0</td>\n",
       "      <td>0</td>\n",
       "      <td>...</td>\n",
       "      <td>0</td>\n",
       "      <td>0</td>\n",
       "      <td>0</td>\n",
       "      <td>1</td>\n",
       "      <td>0</td>\n",
       "      <td>0</td>\n",
       "      <td>1</td>\n",
       "      <td>1</td>\n",
       "      <td>1</td>\n",
       "      <td>1</td>\n",
       "    </tr>\n",
       "    <tr>\n",
       "      <th>4</th>\n",
       "      <td>35</td>\n",
       "      <td>21</td>\n",
       "      <td>5</td>\n",
       "      <td>0</td>\n",
       "      <td>1</td>\n",
       "      <td>1</td>\n",
       "      <td>0</td>\n",
       "      <td>0</td>\n",
       "      <td>0</td>\n",
       "      <td>1</td>\n",
       "      <td>...</td>\n",
       "      <td>1</td>\n",
       "      <td>0</td>\n",
       "      <td>0</td>\n",
       "      <td>1</td>\n",
       "      <td>0</td>\n",
       "      <td>0</td>\n",
       "      <td>1</td>\n",
       "      <td>1</td>\n",
       "      <td>1</td>\n",
       "      <td>1</td>\n",
       "    </tr>\n",
       "  </tbody>\n",
       "</table>\n",
       "<p>5 rows × 25 columns</p>\n",
       "</div>"
      ],
      "text/plain": [
       "   Tumor Size  Regional Node Examined  Reginol Node Positive  Race_Other  \\\n",
       "0          40                      19                     11           1   \n",
       "1          45                      25                      9           1   \n",
       "2          25                       4                      1           0   \n",
       "3          19                      26                      1           0   \n",
       "4          35                      21                      5           0   \n",
       "\n",
       "   Race_White  Marital Status_Married  Marital Status_Separated  \\\n",
       "0           0                       1                         0   \n",
       "1           0                       1                         0   \n",
       "2           1                       1                         0   \n",
       "3           1                       0                         0   \n",
       "4           1                       1                         0   \n",
       "\n",
       "   Marital Status_Single  Marital Status_Widowed  T Stage_T2  ...  \\\n",
       "0                      0                       0           1  ...   \n",
       "1                      0                       0           1  ...   \n",
       "2                      0                       0           1  ...   \n",
       "3                      0                       0           0  ...   \n",
       "4                      0                       0           1  ...   \n",
       "\n",
       "   6th Stage_IIIA  6th Stage_IIIB  6th Stage_IIIC  Grade_Grade II  \\\n",
       "0               0               0               1               1   \n",
       "1               1               0               0               1   \n",
       "2               0               0               0               0   \n",
       "3               0               0               0               1   \n",
       "4               1               0               0               1   \n",
       "\n",
       "   Grade_Grade III  Grade_anaplastic  A Stage_Regional  \\\n",
       "0                0                 0                 1   \n",
       "1                0                 0                 1   \n",
       "2                1                 0                 1   \n",
       "3                0                 0                 1   \n",
       "4                0                 0                 1   \n",
       "\n",
       "   Estrogen Status_Positive  Progesterone Status_Positive  Status  \n",
       "0                         1                             1       0  \n",
       "1                         1                             1       0  \n",
       "2                         1                             1       1  \n",
       "3                         1                             1       1  \n",
       "4                         1                             1       1  \n",
       "\n",
       "[5 rows x 25 columns]"
      ]
     },
     "execution_count": 19,
     "metadata": {},
     "output_type": "execute_result"
    }
   ],
   "source": [
    "#load the clean data \n",
    "# df = pd.read_csv(\"/content/drive/My Drive/Springbaord/capston 2 project/data/bc_data_cleaned.csv\")\n",
    "df = pd.read_csv('../data/bc_data_cleaned_labeled.csv')\n",
    "df.head()"
   ]
  },
  {
   "cell_type": "code",
   "execution_count": 20,
   "id": "88f56415",
   "metadata": {
    "executionInfo": {
     "elapsed": 121,
     "status": "ok",
     "timestamp": 1632930646333,
     "user": {
      "displayName": "Nakisa Abbasi",
      "photoUrl": "https://lh3.googleusercontent.com/a-/AOh14Gg_q2Wn8wlRSE1B6rC3mTaYu9lv9zBvUr9ZIBzda3w=s64",
      "userId": "05148225177351954982"
     },
     "user_tz": 240
    },
    "id": "88f56415"
   },
   "outputs": [],
   "source": [
    "#devide the dataset to features and target\n",
    "X = df.drop('Status',axis = 1)\n",
    "y = df[['Status']]\n"
   ]
  },
  {
   "cell_type": "code",
   "execution_count": 21,
   "id": "336fd735",
   "metadata": {
    "executionInfo": {
     "elapsed": 300,
     "status": "ok",
     "timestamp": 1632930649217,
     "user": {
      "displayName": "Nakisa Abbasi",
      "photoUrl": "https://lh3.googleusercontent.com/a-/AOh14Gg_q2Wn8wlRSE1B6rC3mTaYu9lv9zBvUr9ZIBzda3w=s64",
      "userId": "05148225177351954982"
     },
     "user_tz": 240
    },
    "id": "336fd735"
   },
   "outputs": [],
   "source": [
    "#devide the data to test and train \n",
    "X_train, X_test, y_train, y_test = train_test_split(X, y, test_size=0.33, random_state=42)"
   ]
  },
  {
   "cell_type": "code",
   "execution_count": 22,
   "id": "fe97dcd8",
   "metadata": {
    "colab": {
     "base_uri": "https://localhost:8080/",
     "height": 265
    },
    "executionInfo": {
     "elapsed": 407,
     "status": "ok",
     "timestamp": 1632930656399,
     "user": {
      "displayName": "Nakisa Abbasi",
      "photoUrl": "https://lh3.googleusercontent.com/a-/AOh14Gg_q2Wn8wlRSE1B6rC3mTaYu9lv9zBvUr9ZIBzda3w=s64",
      "userId": "05148225177351954982"
     },
     "user_tz": 240
    },
    "id": "fe97dcd8",
    "outputId": "2c835cb2-c29c-42d5-9750-e1a52e1db5e7"
   },
   "outputs": [
    {
     "data": {
      "image/png": "[encoded data removed]",
      "text/plain": [
       "<Figure size 432x288 with 1 Axes>"
      ]
     },
     "metadata": {
      "needs_background": "light"
     },
     "output_type": "display_data"
    }
   ],
   "source": [
    "plt.hist(y_test);"
   ]
  },
  {
   "cell_type": "code",
   "execution_count": 23,
   "id": "db70a957",
   "metadata": {
    "colab": {
     "base_uri": "https://localhost:8080/"
    },
    "executionInfo": {
     "elapsed": 191,
     "status": "ok",
     "timestamp": 1632930658910,
     "user": {
      "displayName": "Nakisa Abbasi",
      "photoUrl": "https://lh3.googleusercontent.com/a-/AOh14Gg_q2Wn8wlRSE1B6rC3mTaYu9lv9zBvUr9ZIBzda3w=s64",
      "userId": "05148225177351954982"
     },
     "user_tz": 240
    },
    "id": "db70a957",
    "outputId": "84c5a539-aec2-468b-9ac6-ab8ae74342f0"
   },
   "outputs": [
    {
     "name": "stderr",
     "output_type": "stream",
     "text": [
      "<ipython-input-23-60222b61d643>:3: DataConversionWarning: A column-vector y was passed when a 1d array was expected. Please change the shape of y to (n_samples,), for example using ravel().\n",
      "  clf.fit(X_train, y_train)\n"
     ]
    },
    {
     "data": {
      "text/plain": [
       "0.8125"
      ]
     },
     "execution_count": 23,
     "metadata": {},
     "output_type": "execute_result"
    }
   ],
   "source": [
    "#run random forest classification on the data \n",
    "clf = RandomForestClassifier(n_estimators=5)\n",
    "clf.fit(X_train, y_train)\n",
    "clf.score(X_test, y_test)"
   ]
  },
  {
   "cell_type": "code",
   "execution_count": 24,
   "id": "2629789d",
   "metadata": {
    "colab": {
     "base_uri": "https://localhost:8080/"
    },
    "executionInfo": {
     "elapsed": 6,
     "status": "ok",
     "timestamp": 1632930659899,
     "user": {
      "displayName": "Nakisa Abbasi",
      "photoUrl": "https://lh3.googleusercontent.com/a-/AOh14Gg_q2Wn8wlRSE1B6rC3mTaYu9lv9zBvUr9ZIBzda3w=s64",
      "userId": "05148225177351954982"
     },
     "user_tz": 240
    },
    "id": "2629789d",
    "outputId": "81162c0b-8504-41a7-b19a-f3ac4c0f2fbc"
   },
   "outputs": [
    {
     "data": {
      "text/plain": [
       "array([[1031,   82],\n",
       "       [ 167,   48]])"
      ]
     },
     "execution_count": 24,
     "metadata": {},
     "output_type": "execute_result"
    }
   ],
   "source": [
    "confusion_matrix(y_test, clf.predict(X_test))"
   ]
  },
  {
   "cell_type": "markdown",
   "id": "c8b2abc6",
   "metadata": {
    "id": "c8b2abc6"
   },
   "source": [
    "As seen the number of false negative is high in above dataset, its around 77% wrong prediction for dead prediction. T\n",
    "Therefore we will use SMOTE model to genrate and upsample the minor class in out target dataset. "
   ]
  },
  {
   "cell_type": "code",
   "execution_count": 25,
   "id": "2470ba14",
   "metadata": {
    "colab": {
     "base_uri": "https://localhost:8080/"
    },
    "executionInfo": {
     "elapsed": 126,
     "status": "ok",
     "timestamp": 1632930664818,
     "user": {
      "displayName": "Nakisa Abbasi",
      "photoUrl": "https://lh3.googleusercontent.com/a-/AOh14Gg_q2Wn8wlRSE1B6rC3mTaYu9lv9zBvUr9ZIBzda3w=s64",
      "userId": "05148225177351954982"
     },
     "user_tz": 240
    },
    "id": "2470ba14",
    "outputId": "3e53fc55-4ccc-4bf7-a910-f70f0b5d1d93"
   },
   "outputs": [],
   "source": [
    "# transform the dataset\n",
    "oversample = SMOTE()\n",
    "X_smote, y_smote = oversample.fit_resample(X, y)"
   ]
  },
  {
   "cell_type": "code",
   "execution_count": 26,
   "id": "c6b8ddbe",
   "metadata": {
    "colab": {
     "base_uri": "https://localhost:8080/",
     "height": 265
    },
    "executionInfo": {
     "elapsed": 157,
     "status": "ok",
     "timestamp": 1632930665360,
     "user": {
      "displayName": "Nakisa Abbasi",
      "photoUrl": "https://lh3.googleusercontent.com/a-/AOh14Gg_q2Wn8wlRSE1B6rC3mTaYu9lv9zBvUr9ZIBzda3w=s64",
      "userId": "05148225177351954982"
     },
     "user_tz": 240
    },
    "id": "c6b8ddbe",
    "outputId": "bb4a1bff-143a-46b8-b2e3-43370e76fc8c"
   },
   "outputs": [
    {
     "data": {
      "image/png": "[encoded data removed]",
      "text/plain": [
       "<Figure size 432x288 with 1 Axes>"
      ]
     },
     "metadata": {
      "needs_background": "light"
     },
     "output_type": "display_data"
    }
   ],
   "source": [
    "plt.hist(y_smote);"
   ]
  },
  {
   "cell_type": "markdown",
   "id": "17e9ad5d",
   "metadata": {
    "id": "17e9ad5d"
   },
   "source": [
    "As seen in above histogram the taget has balanced distribuation."
   ]
  },
  {
   "cell_type": "code",
   "execution_count": 27,
   "id": "ed98d583",
   "metadata": {
    "executionInfo": {
     "elapsed": 426,
     "status": "ok",
     "timestamp": 1632933114264,
     "user": {
      "displayName": "Nakisa Abbasi",
      "photoUrl": "https://lh3.googleusercontent.com/a-/AOh14Gg_q2Wn8wlRSE1B6rC3mTaYu9lv9zBvUr9ZIBzda3w=s64",
      "userId": "05148225177351954982"
     },
     "user_tz": 240
    },
    "id": "ed98d583"
   },
   "outputs": [],
   "source": [
    "#devide the new upsampled data to train and test\n",
    "X_train_smote, X_test_smote, y_train_smote, y_test_smote = train_test_split(X_smote,y_smote, test_size=0.33, random_state=41)"
   ]
  },
  {
   "cell_type": "code",
   "execution_count": 28,
   "id": "360a0315",
   "metadata": {
    "colab": {
     "base_uri": "https://localhost:8080/"
    },
    "executionInfo": {
     "elapsed": 6,
     "status": "ok",
     "timestamp": 1632933114835,
     "user": {
      "displayName": "Nakisa Abbasi",
      "photoUrl": "https://lh3.googleusercontent.com/a-/AOh14Gg_q2Wn8wlRSE1B6rC3mTaYu9lv9zBvUr9ZIBzda3w=s64",
      "userId": "05148225177351954982"
     },
     "user_tz": 240
    },
    "id": "360a0315",
    "outputId": "407e7444-937a-4aaa-86a5-e335b90d77db"
   },
   "outputs": [
    {
     "name": "stderr",
     "output_type": "stream",
     "text": [
      "<ipython-input-28-671464ba92e8>:2: DataConversionWarning: A column-vector y was passed when a 1d array was expected. Please change the shape of y to (n_samples,), for example using ravel().\n",
      "  clf.fit(X_train_smote, y_train_smote)\n"
     ]
    },
    {
     "data": {
      "text/plain": [
       "0.8475555555555555"
      ]
     },
     "execution_count": 28,
     "metadata": {},
     "output_type": "execute_result"
    }
   ],
   "source": [
    "clf = RandomForestClassifier(n_estimators=10)\n",
    "clf.fit(X_train_smote, y_train_smote)\n",
    "clf.score(X_test_smote, y_test_smote)"
   ]
  },
  {
   "cell_type": "markdown",
   "id": "78301605",
   "metadata": {
    "id": "78301605"
   },
   "source": [
    "We got a better score comparing to out dataset without any synthetic data."
   ]
  },
  {
   "cell_type": "code",
   "execution_count": 13,
   "id": "c4dd914b",
   "metadata": {
    "colab": {
     "base_uri": "https://localhost:8080/"
    },
    "executionInfo": {
     "elapsed": 427,
     "status": "ok",
     "timestamp": 1632933117834,
     "user": {
      "displayName": "Nakisa Abbasi",
      "photoUrl": "https://lh3.googleusercontent.com/a-/AOh14Gg_q2Wn8wlRSE1B6rC3mTaYu9lv9zBvUr9ZIBzda3w=s64",
      "userId": "05148225177351954982"
     },
     "user_tz": 240
    },
    "id": "c4dd914b",
    "outputId": "8f6182c8-82d0-4daf-f303-0a36d0d29721"
   },
   "outputs": [
    {
     "data": {
      "text/plain": [
       "array([[978, 158],\n",
       "       [171, 943]])"
      ]
     },
     "execution_count": 13,
     "metadata": {},
     "output_type": "execute_result"
    }
   ],
   "source": [
    "confusion_matrix(y_test_smote, clf.predict(X_test_smote))"
   ]
  },
  {
   "cell_type": "markdown",
   "id": "fb598f6d",
   "metadata": {
    "id": "fb598f6d"
   },
   "source": [
    "As seen in the confusion matrix the number of false negative decreased and not, the wrong prediction is around 15%."
   ]
  },
  {
   "cell_type": "code",
   "execution_count": 14,
   "id": "129c3dba",
   "metadata": {
    "executionInfo": {
     "elapsed": 4,
     "status": "ok",
     "timestamp": 1632933121675,
     "user": {
      "displayName": "Nakisa Abbasi",
      "photoUrl": "https://lh3.googleusercontent.com/a-/AOh14Gg_q2Wn8wlRSE1B6rC3mTaYu9lv9zBvUr9ZIBzda3w=s64",
      "userId": "05148225177351954982"
     },
     "user_tz": 240
    },
    "id": "129c3dba"
   },
   "outputs": [],
   "source": [
    "synthetic_data = pd.concat([pd.DataFrame(X_smote), pd.DataFrame(y_smote)],axis = 1)"
   ]
  },
  {
   "cell_type": "code",
   "execution_count": 15,
   "id": "4b21ca34",
   "metadata": {
    "colab": {
     "base_uri": "https://localhost:8080/",
     "height": 224
    },
    "executionInfo": {
     "elapsed": 360,
     "status": "ok",
     "timestamp": 1632933123861,
     "user": {
      "displayName": "Nakisa Abbasi",
      "photoUrl": "https://lh3.googleusercontent.com/a-/AOh14Gg_q2Wn8wlRSE1B6rC3mTaYu9lv9zBvUr9ZIBzda3w=s64",
      "userId": "05148225177351954982"
     },
     "user_tz": 240
    },
    "id": "4b21ca34",
    "outputId": "fe33e099-28e1-4553-d5c9-c91b3fe2de39"
   },
   "outputs": [
    {
     "data": {
      "text/html": [
       "<div>\n",
       "<style scoped>\n",
       "    .dataframe tbody tr th:only-of-type {\n",
       "        vertical-align: middle;\n",
       "    }\n",
       "\n",
       "    .dataframe tbody tr th {\n",
       "        vertical-align: top;\n",
       "    }\n",
       "\n",
       "    .dataframe thead th {\n",
       "        text-align: right;\n",
       "    }\n",
       "</style>\n",
       "<table border=\"1\" class=\"dataframe\">\n",
       "  <thead>\n",
       "    <tr style=\"text-align: right;\">\n",
       "      <th></th>\n",
       "      <th>Tumor Size</th>\n",
       "      <th>Regional Node Examined</th>\n",
       "      <th>Reginol Node Positive</th>\n",
       "      <th>Race_Other</th>\n",
       "      <th>Race_White</th>\n",
       "      <th>Marital Status_Married</th>\n",
       "      <th>Marital Status_Separated</th>\n",
       "      <th>Marital Status_Single</th>\n",
       "      <th>Marital Status_Widowed</th>\n",
       "      <th>T Stage_T2</th>\n",
       "      <th>...</th>\n",
       "      <th>6th Stage_IIIA</th>\n",
       "      <th>6th Stage_IIIB</th>\n",
       "      <th>6th Stage_IIIC</th>\n",
       "      <th>Grade_Grade II</th>\n",
       "      <th>Grade_Grade III</th>\n",
       "      <th>Grade_anaplastic</th>\n",
       "      <th>A Stage_Regional</th>\n",
       "      <th>Estrogen Status_Positive</th>\n",
       "      <th>Progesterone Status_Positive</th>\n",
       "      <th>Status</th>\n",
       "    </tr>\n",
       "  </thead>\n",
       "  <tbody>\n",
       "    <tr>\n",
       "      <th>6811</th>\n",
       "      <td>50</td>\n",
       "      <td>16</td>\n",
       "      <td>15</td>\n",
       "      <td>0</td>\n",
       "      <td>1</td>\n",
       "      <td>1</td>\n",
       "      <td>0</td>\n",
       "      <td>0</td>\n",
       "      <td>0</td>\n",
       "      <td>0</td>\n",
       "      <td>...</td>\n",
       "      <td>0</td>\n",
       "      <td>0</td>\n",
       "      <td>1</td>\n",
       "      <td>0</td>\n",
       "      <td>0</td>\n",
       "      <td>0</td>\n",
       "      <td>1</td>\n",
       "      <td>1</td>\n",
       "      <td>0</td>\n",
       "      <td>1</td>\n",
       "    </tr>\n",
       "    <tr>\n",
       "      <th>6812</th>\n",
       "      <td>50</td>\n",
       "      <td>18</td>\n",
       "      <td>2</td>\n",
       "      <td>0</td>\n",
       "      <td>1</td>\n",
       "      <td>0</td>\n",
       "      <td>0</td>\n",
       "      <td>0</td>\n",
       "      <td>0</td>\n",
       "      <td>0</td>\n",
       "      <td>...</td>\n",
       "      <td>0</td>\n",
       "      <td>0</td>\n",
       "      <td>0</td>\n",
       "      <td>0</td>\n",
       "      <td>0</td>\n",
       "      <td>0</td>\n",
       "      <td>1</td>\n",
       "      <td>0</td>\n",
       "      <td>0</td>\n",
       "      <td>1</td>\n",
       "    </tr>\n",
       "    <tr>\n",
       "      <th>6813</th>\n",
       "      <td>60</td>\n",
       "      <td>12</td>\n",
       "      <td>2</td>\n",
       "      <td>0</td>\n",
       "      <td>0</td>\n",
       "      <td>1</td>\n",
       "      <td>0</td>\n",
       "      <td>0</td>\n",
       "      <td>0</td>\n",
       "      <td>0</td>\n",
       "      <td>...</td>\n",
       "      <td>1</td>\n",
       "      <td>0</td>\n",
       "      <td>0</td>\n",
       "      <td>0</td>\n",
       "      <td>1</td>\n",
       "      <td>0</td>\n",
       "      <td>1</td>\n",
       "      <td>1</td>\n",
       "      <td>1</td>\n",
       "      <td>1</td>\n",
       "    </tr>\n",
       "    <tr>\n",
       "      <th>6814</th>\n",
       "      <td>35</td>\n",
       "      <td>21</td>\n",
       "      <td>1</td>\n",
       "      <td>0</td>\n",
       "      <td>0</td>\n",
       "      <td>0</td>\n",
       "      <td>0</td>\n",
       "      <td>0</td>\n",
       "      <td>0</td>\n",
       "      <td>1</td>\n",
       "      <td>...</td>\n",
       "      <td>0</td>\n",
       "      <td>0</td>\n",
       "      <td>0</td>\n",
       "      <td>0</td>\n",
       "      <td>0</td>\n",
       "      <td>0</td>\n",
       "      <td>1</td>\n",
       "      <td>0</td>\n",
       "      <td>0</td>\n",
       "      <td>1</td>\n",
       "    </tr>\n",
       "    <tr>\n",
       "      <th>6815</th>\n",
       "      <td>34</td>\n",
       "      <td>21</td>\n",
       "      <td>16</td>\n",
       "      <td>0</td>\n",
       "      <td>1</td>\n",
       "      <td>1</td>\n",
       "      <td>0</td>\n",
       "      <td>0</td>\n",
       "      <td>0</td>\n",
       "      <td>1</td>\n",
       "      <td>...</td>\n",
       "      <td>0</td>\n",
       "      <td>0</td>\n",
       "      <td>1</td>\n",
       "      <td>0</td>\n",
       "      <td>1</td>\n",
       "      <td>0</td>\n",
       "      <td>1</td>\n",
       "      <td>0</td>\n",
       "      <td>0</td>\n",
       "      <td>1</td>\n",
       "    </tr>\n",
       "  </tbody>\n",
       "</table>\n",
       "<p>5 rows × 25 columns</p>\n",
       "</div>"
      ],
      "text/plain": [
       "      Tumor Size  Regional Node Examined  Reginol Node Positive  Race_Other  \\\n",
       "6811          50                      16                     15           0   \n",
       "6812          50                      18                      2           0   \n",
       "6813          60                      12                      2           0   \n",
       "6814          35                      21                      1           0   \n",
       "6815          34                      21                     16           0   \n",
       "\n",
       "      Race_White  Marital Status_Married  Marital Status_Separated  \\\n",
       "6811           1                       1                         0   \n",
       "6812           1                       0                         0   \n",
       "6813           0                       1                         0   \n",
       "6814           0                       0                         0   \n",
       "6815           1                       1                         0   \n",
       "\n",
       "      Marital Status_Single  Marital Status_Widowed  T Stage_T2  ...  \\\n",
       "6811                      0                       0           0  ...   \n",
       "6812                      0                       0           0  ...   \n",
       "6813                      0                       0           0  ...   \n",
       "6814                      0                       0           1  ...   \n",
       "6815                      0                       0           1  ...   \n",
       "\n",
       "      6th Stage_IIIA  6th Stage_IIIB  6th Stage_IIIC  Grade_Grade II  \\\n",
       "6811               0               0               1               0   \n",
       "6812               0               0               0               0   \n",
       "6813               1               0               0               0   \n",
       "6814               0               0               0               0   \n",
       "6815               0               0               1               0   \n",
       "\n",
       "      Grade_Grade III  Grade_anaplastic  A Stage_Regional  \\\n",
       "6811                0                 0                 1   \n",
       "6812                0                 0                 1   \n",
       "6813                1                 0                 1   \n",
       "6814                0                 0                 1   \n",
       "6815                1                 0                 1   \n",
       "\n",
       "      Estrogen Status_Positive  Progesterone Status_Positive  Status  \n",
       "6811                         1                             0       1  \n",
       "6812                         0                             0       1  \n",
       "6813                         1                             1       1  \n",
       "6814                         0                             0       1  \n",
       "6815                         0                             0       1  \n",
       "\n",
       "[5 rows x 25 columns]"
      ]
     },
     "execution_count": 15,
     "metadata": {},
     "output_type": "execute_result"
    }
   ],
   "source": [
    "synthetic_data.tail()"
   ]
  },
  {
   "cell_type": "code",
   "execution_count": 16,
   "id": "eba99bc9",
   "metadata": {
    "executionInfo": {
     "elapsed": 339,
     "status": "ok",
     "timestamp": 1632933145646,
     "user": {
      "displayName": "Nakisa Abbasi",
      "photoUrl": "https://lh3.googleusercontent.com/a-/AOh14Gg_q2Wn8wlRSE1B6rC3mTaYu9lv9zBvUr9ZIBzda3w=s64",
      "userId": "05148225177351954982"
     },
     "user_tz": 240
    },
    "id": "eba99bc9"
   },
   "outputs": [],
   "source": [
    "# fpath = '/content/drive/My Drive/Springbaord/capston 2 project/data/bc_data_synthetic.csv'\n",
    "fpath = '../data/bc_data_synthetic.csv'\n",
    "synthetic_data.to_csv(fpath, index=False)"
   ]
  },
  {
   "cell_type": "code",
   "execution_count": null,
   "id": "c81486b7",
   "metadata": {},
   "outputs": [],
   "source": []
  },
  {
   "cell_type": "code",
   "execution_count": null,
   "id": "7fe181e7",
   "metadata": {},
   "outputs": [],
   "source": []
  }
 ],
 "metadata": {
  "colab": {
   "name": "generate_synthetic_data.ipynb",
   "provenance": []
  },
  "kernelspec": {
   "display_name": "Python 3",
   "language": "python",
   "name": "python3"
  },
  "language_info": {
   "codemirror_mode": {
    "name": "ipython",
    "version": 3
   },
   "file_extension": ".py",
   "mimetype": "text/x-python",
   "name": "python",
   "nbconvert_exporter": "python",
   "pygments_lexer": "ipython3",
   "version": "3.8.8"
  }
 },
 "nbformat": 4,
 "nbformat_minor": 5
}
