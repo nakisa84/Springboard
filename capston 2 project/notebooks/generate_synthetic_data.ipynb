{
  "nbformat": 4,
  "nbformat_minor": 5,
  "metadata": {
    "colab": {
      "name": "generate_synthetic_data.ipynb",
      "provenance": [],
      "include_colab_link": true
    },
    "kernelspec": {
      "display_name": "Python 3",
      "language": "python",
      "name": "python3"
    },
    "language_info": {
      "codemirror_mode": {
        "name": "ipython",
        "version": 3
      },
      "file_extension": ".py",
      "mimetype": "text/x-python",
      "name": "python",
      "nbconvert_exporter": "python",
      "pygments_lexer": "ipython3",
      "version": "3.8.8"
    }
  },
  "cells": [
    {
      "cell_type": "markdown",
      "metadata": {
        "id": "view-in-github",
        "colab_type": "text"
      },
      "source": [
        "<a href=\"https://colab.research.google.com/github/nakisa84/Springboard/blob/main/capston%202%20project/notebooks/generate_synthetic_data.ipynb\" target=\"_parent\"><img src=\"https://colab.research.google.com/assets/colab-badge.svg\" alt=\"Open In Colab\"/></a>"
      ]
    },
    {
      "cell_type": "markdown",
      "metadata": {
        "id": "8307a631"
      },
      "source": [
        "### In this notebook, data has been upsampled using SMOTE technique:"
      ],
      "id": "8307a631"
    },
    {
      "cell_type": "code",
      "metadata": {
        "id": "e3ffe217"
      },
      "source": [
        "import matplotlib.pyplot as plt\n",
        "import pandas as pd\n",
        "import random\n",
        "import numpy as np\n",
        "import math\n",
        "import seaborn as sns\n",
        "from sklearn.metrics import confusion_matrix\n",
        "from sklearn.model_selection import train_test_split\n",
        "from sklearn.ensemble import RandomForestClassifier\n",
        "from imblearn.over_sampling import SMOTE"
      ],
      "id": "e3ffe217",
      "execution_count": 1,
      "outputs": []
    },
    {
      "cell_type": "code",
      "metadata": {
        "colab": {
          "base_uri": "https://localhost:8080/"
        },
        "id": "ZRFVur5XP6Mh",
        "outputId": "287e2797-aa32-4479-f29e-4cfc715492a0"
      },
      "source": [
        "# from google.colab import drive\n",
        "from google.colab import drive\n",
        "drive.mount('/content/drive')"
      ],
      "id": "ZRFVur5XP6Mh",
      "execution_count": 2,
      "outputs": [
        {
          "output_type": "stream",
          "name": "stdout",
          "text": [
            "Mounted at /content/drive\n"
          ]
        }
      ]
    },
    {
      "cell_type": "code",
      "metadata": {
        "colab": {
          "base_uri": "https://localhost:8080/",
          "height": 261
        },
        "id": "e187520d",
        "outputId": "85735066-5832-470e-eaa6-de969824160f"
      },
      "source": [
        "#load the clean data \n",
        "fpath = '/content/drive/My Drive/Springboard/capston 2 project/data/bc_data_cleaned_labeled.csv'\n",
        "df = pd.read_csv(fpath)\n",
        "\n",
        "# df = pd.read_csv('../data/bc_data_cleaned_labeled.csv')\n",
        "df.head()"
      ],
      "id": "e187520d",
      "execution_count": 3,
      "outputs": [
        {
          "output_type": "execute_result",
          "data": {
            "text/html": [
              "<div>\n",
              "<style scoped>\n",
              "    .dataframe tbody tr th:only-of-type {\n",
              "        vertical-align: middle;\n",
              "    }\n",
              "\n",
              "    .dataframe tbody tr th {\n",
              "        vertical-align: top;\n",
              "    }\n",
              "\n",
              "    .dataframe thead th {\n",
              "        text-align: right;\n",
              "    }\n",
              "</style>\n",
              "<table border=\"1\" class=\"dataframe\">\n",
              "  <thead>\n",
              "    <tr style=\"text-align: right;\">\n",
              "      <th></th>\n",
              "      <th>Tumor Size</th>\n",
              "      <th>Regional Node Examined</th>\n",
              "      <th>Reginol Node Positive</th>\n",
              "      <th>Race_Other</th>\n",
              "      <th>Race_White</th>\n",
              "      <th>Marital Status_Married</th>\n",
              "      <th>Marital Status_Separated</th>\n",
              "      <th>Marital Status_Single</th>\n",
              "      <th>Marital Status_Widowed</th>\n",
              "      <th>T Stage_T2</th>\n",
              "      <th>T Stage_T3</th>\n",
              "      <th>T Stage_T4</th>\n",
              "      <th>N Stage_N2</th>\n",
              "      <th>N Stage_N3</th>\n",
              "      <th>6th Stage_IIB</th>\n",
              "      <th>6th Stage_IIIA</th>\n",
              "      <th>6th Stage_IIIB</th>\n",
              "      <th>6th Stage_IIIC</th>\n",
              "      <th>Grade_Grade II</th>\n",
              "      <th>Grade_Grade III</th>\n",
              "      <th>Grade_anaplastic</th>\n",
              "      <th>A Stage_Regional</th>\n",
              "      <th>Estrogen Status_Positive</th>\n",
              "      <th>Progesterone Status_Positive</th>\n",
              "      <th>Status</th>\n",
              "    </tr>\n",
              "  </thead>\n",
              "  <tbody>\n",
              "    <tr>\n",
              "      <th>0</th>\n",
              "      <td>40</td>\n",
              "      <td>19</td>\n",
              "      <td>11</td>\n",
              "      <td>1</td>\n",
              "      <td>0</td>\n",
              "      <td>1</td>\n",
              "      <td>0</td>\n",
              "      <td>0</td>\n",
              "      <td>0</td>\n",
              "      <td>1</td>\n",
              "      <td>0</td>\n",
              "      <td>0</td>\n",
              "      <td>0</td>\n",
              "      <td>1</td>\n",
              "      <td>0</td>\n",
              "      <td>0</td>\n",
              "      <td>0</td>\n",
              "      <td>1</td>\n",
              "      <td>1</td>\n",
              "      <td>0</td>\n",
              "      <td>0</td>\n",
              "      <td>1</td>\n",
              "      <td>1</td>\n",
              "      <td>1</td>\n",
              "      <td>0</td>\n",
              "    </tr>\n",
              "    <tr>\n",
              "      <th>1</th>\n",
              "      <td>45</td>\n",
              "      <td>25</td>\n",
              "      <td>9</td>\n",
              "      <td>1</td>\n",
              "      <td>0</td>\n",
              "      <td>1</td>\n",
              "      <td>0</td>\n",
              "      <td>0</td>\n",
              "      <td>0</td>\n",
              "      <td>1</td>\n",
              "      <td>0</td>\n",
              "      <td>0</td>\n",
              "      <td>1</td>\n",
              "      <td>0</td>\n",
              "      <td>0</td>\n",
              "      <td>1</td>\n",
              "      <td>0</td>\n",
              "      <td>0</td>\n",
              "      <td>1</td>\n",
              "      <td>0</td>\n",
              "      <td>0</td>\n",
              "      <td>1</td>\n",
              "      <td>1</td>\n",
              "      <td>1</td>\n",
              "      <td>0</td>\n",
              "    </tr>\n",
              "    <tr>\n",
              "      <th>2</th>\n",
              "      <td>25</td>\n",
              "      <td>4</td>\n",
              "      <td>1</td>\n",
              "      <td>0</td>\n",
              "      <td>1</td>\n",
              "      <td>1</td>\n",
              "      <td>0</td>\n",
              "      <td>0</td>\n",
              "      <td>0</td>\n",
              "      <td>1</td>\n",
              "      <td>0</td>\n",
              "      <td>0</td>\n",
              "      <td>0</td>\n",
              "      <td>0</td>\n",
              "      <td>1</td>\n",
              "      <td>0</td>\n",
              "      <td>0</td>\n",
              "      <td>0</td>\n",
              "      <td>0</td>\n",
              "      <td>1</td>\n",
              "      <td>0</td>\n",
              "      <td>1</td>\n",
              "      <td>1</td>\n",
              "      <td>1</td>\n",
              "      <td>1</td>\n",
              "    </tr>\n",
              "    <tr>\n",
              "      <th>3</th>\n",
              "      <td>19</td>\n",
              "      <td>26</td>\n",
              "      <td>1</td>\n",
              "      <td>0</td>\n",
              "      <td>1</td>\n",
              "      <td>0</td>\n",
              "      <td>0</td>\n",
              "      <td>0</td>\n",
              "      <td>0</td>\n",
              "      <td>0</td>\n",
              "      <td>0</td>\n",
              "      <td>0</td>\n",
              "      <td>0</td>\n",
              "      <td>0</td>\n",
              "      <td>0</td>\n",
              "      <td>0</td>\n",
              "      <td>0</td>\n",
              "      <td>0</td>\n",
              "      <td>1</td>\n",
              "      <td>0</td>\n",
              "      <td>0</td>\n",
              "      <td>1</td>\n",
              "      <td>1</td>\n",
              "      <td>1</td>\n",
              "      <td>1</td>\n",
              "    </tr>\n",
              "    <tr>\n",
              "      <th>4</th>\n",
              "      <td>35</td>\n",
              "      <td>21</td>\n",
              "      <td>5</td>\n",
              "      <td>0</td>\n",
              "      <td>1</td>\n",
              "      <td>1</td>\n",
              "      <td>0</td>\n",
              "      <td>0</td>\n",
              "      <td>0</td>\n",
              "      <td>1</td>\n",
              "      <td>0</td>\n",
              "      <td>0</td>\n",
              "      <td>1</td>\n",
              "      <td>0</td>\n",
              "      <td>0</td>\n",
              "      <td>1</td>\n",
              "      <td>0</td>\n",
              "      <td>0</td>\n",
              "      <td>1</td>\n",
              "      <td>0</td>\n",
              "      <td>0</td>\n",
              "      <td>1</td>\n",
              "      <td>1</td>\n",
              "      <td>1</td>\n",
              "      <td>1</td>\n",
              "    </tr>\n",
              "  </tbody>\n",
              "</table>\n",
              "</div>"
            ],
            "text/plain": [
              "   Tumor Size  Regional Node Examined  ...  Progesterone Status_Positive  Status\n",
              "0          40                      19  ...                             1       0\n",
              "1          45                      25  ...                             1       0\n",
              "2          25                       4  ...                             1       1\n",
              "3          19                      26  ...                             1       1\n",
              "4          35                      21  ...                             1       1\n",
              "\n",
              "[5 rows x 25 columns]"
            ]
          },
          "metadata": {},
          "execution_count": 3
        }
      ]
    },
    {
      "cell_type": "code",
      "metadata": {
        "id": "88f56415"
      },
      "source": [
        "#devide the dataset to features and target\n",
        "X = df.drop('Status',axis = 1)\n",
        "y = df[['Status']]\n"
      ],
      "id": "88f56415",
      "execution_count": 4,
      "outputs": []
    },
    {
      "cell_type": "code",
      "metadata": {
        "id": "336fd735"
      },
      "source": [
        "#devide the data to test and train \n",
        "X_train, X_test, y_train, y_test = train_test_split(X, y, test_size=0.33, random_state=42)"
      ],
      "id": "336fd735",
      "execution_count": 5,
      "outputs": []
    },
    {
      "cell_type": "code",
      "metadata": {
        "colab": {
          "base_uri": "https://localhost:8080/",
          "height": 369
        },
        "id": "fe97dcd8",
        "outputId": "4f0eb73b-c3d0-4f6f-8ed0-431503f3fdd6"
      },
      "source": [
        " sns.catplot(x='Status',data=y_test,kind=\"count\");"
      ],
      "id": "fe97dcd8",
      "execution_count": 6,
      "outputs": [
        {
          "output_type": "display_data",
          "data": {
            "image/png": "[encoded data removed]",
            "text/plain": [
              "<Figure size 360x360 with 1 Axes>"
            ]
          },
          "metadata": {
            "needs_background": "light"
          }
        }
      ]
    },
    {
      "cell_type": "code",
      "metadata": {
        "colab": {
          "base_uri": "https://localhost:8080/"
        },
        "id": "db70a957",
        "outputId": "4563ce34-52bb-4436-cfaf-2e72b3667445"
      },
      "source": [
        "#run random forest classification on the data \n",
        "from sklearn.metrics import f1_score\n",
        "clf = RandomForestClassifier(n_estimators=5)\n",
        "clf.fit(X_train, y_train)\n",
        "y_pred = clf.predict(X_test)\n",
        "f1_score(y_test, y_pred)"
      ],
      "id": "db70a957",
      "execution_count": 26,
      "outputs": [
        {
          "output_type": "stream",
          "name": "stderr",
          "text": [
            "/usr/local/lib/python3.7/dist-packages/ipykernel_launcher.py:4: DataConversionWarning: A column-vector y was passed when a 1d array was expected. Please change the shape of y to (n_samples,), for example using ravel().\n",
            "  after removing the cwd from sys.path.\n"
          ]
        },
        {
          "output_type": "execute_result",
          "data": {
            "text/plain": [
              "0.29461756373937675"
            ]
          },
          "metadata": {},
          "execution_count": 26
        }
      ]
    },
    {
      "cell_type": "code",
      "metadata": {
        "colab": {
          "base_uri": "https://localhost:8080/"
        },
        "id": "2629789d",
        "outputId": "9e02d826-495e-4d5c-9e5d-9836bf0a796d"
      },
      "source": [
        "confusion_matrix(y_test, y_pred)"
      ],
      "id": "2629789d",
      "execution_count": 13,
      "outputs": [
        {
          "output_type": "execute_result",
          "data": {
            "text/plain": [
              "array([[1035,   78],\n",
              "       [ 168,   47]])"
            ]
          },
          "metadata": {},
          "execution_count": 13
        }
      ]
    },
    {
      "cell_type": "code",
      "metadata": {
        "colab": {
          "base_uri": "https://localhost:8080/"
        },
        "id": "TZtVAmtP4IZv",
        "outputId": "bac03bd7-c73d-4727-967e-3b40d37fd8ad"
      },
      "source": [
        "from sklearn.metrics import matthews_corrcoef\n",
        "matthews_corrcoef(y_test, y_pred)"
      ],
      "id": "TZtVAmtP4IZv",
      "execution_count": 14,
      "outputs": [
        {
          "output_type": "execute_result",
          "data": {
            "text/plain": [
              "0.18735919461894"
            ]
          },
          "metadata": {},
          "execution_count": 14
        }
      ]
    },
    {
      "cell_type": "markdown",
      "metadata": {
        "id": "c8b2abc6"
      },
      "source": [
        "As seen the number of false negative is high in above dataset, its around 77% wrong prediction for dead prediction. T\n",
        "Therefore we will use SMOTE model to genrate and upsample the minor class in out target dataset. "
      ],
      "id": "c8b2abc6"
    },
    {
      "cell_type": "code",
      "metadata": {
        "id": "2470ba14"
      },
      "source": [
        "# transform the dataset\n",
        "oversample = SMOTE()\n",
        "X_smote, y_smote = oversample.fit_resample(X, y)"
      ],
      "id": "2470ba14",
      "execution_count": 15,
      "outputs": []
    },
    {
      "cell_type": "code",
      "metadata": {
        "colab": {
          "base_uri": "https://localhost:8080/",
          "height": 369
        },
        "id": "c6b8ddbe",
        "outputId": "1cb546ca-7062-4642-8455-7b19bca9a907"
      },
      "source": [
        " sns.catplot(x='Status',data=y_smote,kind=\"count\");"
      ],
      "id": "c6b8ddbe",
      "execution_count": 16,
      "outputs": [
        {
          "output_type": "display_data",
          "data": {
            "image/png": "[encoded data removed]",
            "text/plain": [
              "<Figure size 360x360 with 1 Axes>"
            ]
          },
          "metadata": {
            "needs_background": "light"
          }
        }
      ]
    },
    {
      "cell_type": "markdown",
      "metadata": {
        "id": "17e9ad5d"
      },
      "source": [
        "As seen in above histogram the taget has balanced distribuation."
      ],
      "id": "17e9ad5d"
    },
    {
      "cell_type": "code",
      "metadata": {
        "id": "ed98d583"
      },
      "source": [
        "#devide the new upsampled data to train and test\n",
        "X_train_smote, X_test_smote, y_train_smote, y_test_smote = train_test_split(X_smote,y_smote, test_size=0.33, random_state=41)"
      ],
      "id": "ed98d583",
      "execution_count": 17,
      "outputs": []
    },
    {
      "cell_type": "code",
      "metadata": {
        "colab": {
          "base_uri": "https://localhost:8080/"
        },
        "id": "360a0315",
        "outputId": "dfd54e9a-9fb5-479f-ce49-7e5795c6f901"
      },
      "source": [
        "clf = RandomForestClassifier(n_estimators=10)\n",
        "clf.fit(X_train_smote, y_train_smote)\n",
        "y_pred_smote = clf.predict(X_test_smote)\n",
        "f1_score(y_test_smote, y_pred_smote)"
      ],
      "id": "360a0315",
      "execution_count": 27,
      "outputs": [
        {
          "output_type": "stream",
          "name": "stderr",
          "text": [
            "/usr/local/lib/python3.7/dist-packages/ipykernel_launcher.py:2: DataConversionWarning: A column-vector y was passed when a 1d array was expected. Please change the shape of y to (n_samples,), for example using ravel().\n",
            "  \n"
          ]
        },
        {
          "output_type": "execute_result",
          "data": {
            "text/plain": [
              "0.8347746927628585"
            ]
          },
          "metadata": {},
          "execution_count": 27
        }
      ]
    },
    {
      "cell_type": "markdown",
      "metadata": {
        "id": "78301605"
      },
      "source": [
        "We got a better score comparing to out dataset without any synthetic data."
      ],
      "id": "78301605"
    },
    {
      "cell_type": "code",
      "metadata": {
        "colab": {
          "base_uri": "https://localhost:8080/"
        },
        "id": "c4dd914b",
        "outputId": "8bf7054a-2c9e-4ea6-94c8-9f339906dee4"
      },
      "source": [
        "confusion_matrix(y_test_smote, y_pred_smote)"
      ],
      "id": "c4dd914b",
      "execution_count": 28,
      "outputs": [
        {
          "output_type": "execute_result",
          "data": {
            "text/plain": [
              "array([[970, 166],\n",
              "       [197, 917]])"
            ]
          },
          "metadata": {},
          "execution_count": 28
        }
      ]
    },
    {
      "cell_type": "code",
      "metadata": {
        "colab": {
          "base_uri": "https://localhost:8080/"
        },
        "id": "8mRQ2Gzo4pjW",
        "outputId": "f31580a5-e3ba-4bf6-ce58-dfff230aecb2"
      },
      "source": [
        "matthews_corrcoef(y_test_smote, y_pred_smote)"
      ],
      "id": "8mRQ2Gzo4pjW",
      "execution_count": 29,
      "outputs": [
        {
          "output_type": "execute_result",
          "data": {
            "text/plain": [
              "0.6774729473660086"
            ]
          },
          "metadata": {},
          "execution_count": 29
        }
      ]
    },
    {
      "cell_type": "markdown",
      "metadata": {
        "id": "fb598f6d"
      },
      "source": [
        "As seen in the confusion matrix the number of false negative decreased and not, the wrong prediction is around 15%."
      ],
      "id": "fb598f6d"
    },
    {
      "cell_type": "code",
      "metadata": {
        "id": "129c3dba"
      },
      "source": [
        "synthetic_data = pd.concat([pd.DataFrame(X_smote), pd.DataFrame(y_smote)],axis = 1)"
      ],
      "id": "129c3dba",
      "execution_count": 31,
      "outputs": []
    },
    {
      "cell_type": "code",
      "metadata": {
        "colab": {
          "base_uri": "https://localhost:8080/",
          "height": 261
        },
        "id": "4b21ca34",
        "outputId": "20854867-2656-43b1-f270-151fe750eda2"
      },
      "source": [
        "synthetic_data.tail()"
      ],
      "id": "4b21ca34",
      "execution_count": 32,
      "outputs": [
        {
          "output_type": "execute_result",
          "data": {
            "text/html": [
              "<div>\n",
              "<style scoped>\n",
              "    .dataframe tbody tr th:only-of-type {\n",
              "        vertical-align: middle;\n",
              "    }\n",
              "\n",
              "    .dataframe tbody tr th {\n",
              "        vertical-align: top;\n",
              "    }\n",
              "\n",
              "    .dataframe thead th {\n",
              "        text-align: right;\n",
              "    }\n",
              "</style>\n",
              "<table border=\"1\" class=\"dataframe\">\n",
              "  <thead>\n",
              "    <tr style=\"text-align: right;\">\n",
              "      <th></th>\n",
              "      <th>Tumor Size</th>\n",
              "      <th>Regional Node Examined</th>\n",
              "      <th>Reginol Node Positive</th>\n",
              "      <th>Race_Other</th>\n",
              "      <th>Race_White</th>\n",
              "      <th>Marital Status_Married</th>\n",
              "      <th>Marital Status_Separated</th>\n",
              "      <th>Marital Status_Single</th>\n",
              "      <th>Marital Status_Widowed</th>\n",
              "      <th>T Stage_T2</th>\n",
              "      <th>T Stage_T3</th>\n",
              "      <th>T Stage_T4</th>\n",
              "      <th>N Stage_N2</th>\n",
              "      <th>N Stage_N3</th>\n",
              "      <th>6th Stage_IIB</th>\n",
              "      <th>6th Stage_IIIA</th>\n",
              "      <th>6th Stage_IIIB</th>\n",
              "      <th>6th Stage_IIIC</th>\n",
              "      <th>Grade_Grade II</th>\n",
              "      <th>Grade_Grade III</th>\n",
              "      <th>Grade_anaplastic</th>\n",
              "      <th>A Stage_Regional</th>\n",
              "      <th>Estrogen Status_Positive</th>\n",
              "      <th>Progesterone Status_Positive</th>\n",
              "      <th>Status</th>\n",
              "    </tr>\n",
              "  </thead>\n",
              "  <tbody>\n",
              "    <tr>\n",
              "      <th>6811</th>\n",
              "      <td>30</td>\n",
              "      <td>2</td>\n",
              "      <td>1</td>\n",
              "      <td>0</td>\n",
              "      <td>0</td>\n",
              "      <td>0</td>\n",
              "      <td>0</td>\n",
              "      <td>0</td>\n",
              "      <td>0</td>\n",
              "      <td>1</td>\n",
              "      <td>0</td>\n",
              "      <td>0</td>\n",
              "      <td>0</td>\n",
              "      <td>0</td>\n",
              "      <td>1</td>\n",
              "      <td>0</td>\n",
              "      <td>0</td>\n",
              "      <td>0</td>\n",
              "      <td>0</td>\n",
              "      <td>0</td>\n",
              "      <td>0</td>\n",
              "      <td>1</td>\n",
              "      <td>1</td>\n",
              "      <td>0</td>\n",
              "      <td>1</td>\n",
              "    </tr>\n",
              "    <tr>\n",
              "      <th>6812</th>\n",
              "      <td>23</td>\n",
              "      <td>22</td>\n",
              "      <td>2</td>\n",
              "      <td>0</td>\n",
              "      <td>0</td>\n",
              "      <td>0</td>\n",
              "      <td>0</td>\n",
              "      <td>0</td>\n",
              "      <td>0</td>\n",
              "      <td>1</td>\n",
              "      <td>0</td>\n",
              "      <td>0</td>\n",
              "      <td>0</td>\n",
              "      <td>0</td>\n",
              "      <td>1</td>\n",
              "      <td>0</td>\n",
              "      <td>0</td>\n",
              "      <td>0</td>\n",
              "      <td>1</td>\n",
              "      <td>0</td>\n",
              "      <td>0</td>\n",
              "      <td>1</td>\n",
              "      <td>1</td>\n",
              "      <td>1</td>\n",
              "      <td>1</td>\n",
              "    </tr>\n",
              "    <tr>\n",
              "      <th>6813</th>\n",
              "      <td>40</td>\n",
              "      <td>18</td>\n",
              "      <td>7</td>\n",
              "      <td>0</td>\n",
              "      <td>1</td>\n",
              "      <td>0</td>\n",
              "      <td>0</td>\n",
              "      <td>0</td>\n",
              "      <td>0</td>\n",
              "      <td>1</td>\n",
              "      <td>0</td>\n",
              "      <td>0</td>\n",
              "      <td>1</td>\n",
              "      <td>0</td>\n",
              "      <td>0</td>\n",
              "      <td>1</td>\n",
              "      <td>0</td>\n",
              "      <td>0</td>\n",
              "      <td>0</td>\n",
              "      <td>0</td>\n",
              "      <td>0</td>\n",
              "      <td>1</td>\n",
              "      <td>1</td>\n",
              "      <td>1</td>\n",
              "      <td>1</td>\n",
              "    </tr>\n",
              "    <tr>\n",
              "      <th>6814</th>\n",
              "      <td>21</td>\n",
              "      <td>38</td>\n",
              "      <td>3</td>\n",
              "      <td>0</td>\n",
              "      <td>1</td>\n",
              "      <td>0</td>\n",
              "      <td>0</td>\n",
              "      <td>0</td>\n",
              "      <td>0</td>\n",
              "      <td>0</td>\n",
              "      <td>0</td>\n",
              "      <td>0</td>\n",
              "      <td>0</td>\n",
              "      <td>0</td>\n",
              "      <td>0</td>\n",
              "      <td>0</td>\n",
              "      <td>0</td>\n",
              "      <td>0</td>\n",
              "      <td>0</td>\n",
              "      <td>0</td>\n",
              "      <td>0</td>\n",
              "      <td>1</td>\n",
              "      <td>0</td>\n",
              "      <td>0</td>\n",
              "      <td>1</td>\n",
              "    </tr>\n",
              "    <tr>\n",
              "      <th>6815</th>\n",
              "      <td>46</td>\n",
              "      <td>25</td>\n",
              "      <td>22</td>\n",
              "      <td>0</td>\n",
              "      <td>1</td>\n",
              "      <td>0</td>\n",
              "      <td>0</td>\n",
              "      <td>0</td>\n",
              "      <td>0</td>\n",
              "      <td>0</td>\n",
              "      <td>0</td>\n",
              "      <td>0</td>\n",
              "      <td>0</td>\n",
              "      <td>1</td>\n",
              "      <td>0</td>\n",
              "      <td>0</td>\n",
              "      <td>0</td>\n",
              "      <td>1</td>\n",
              "      <td>0</td>\n",
              "      <td>1</td>\n",
              "      <td>0</td>\n",
              "      <td>1</td>\n",
              "      <td>0</td>\n",
              "      <td>0</td>\n",
              "      <td>1</td>\n",
              "    </tr>\n",
              "  </tbody>\n",
              "</table>\n",
              "</div>"
            ],
            "text/plain": [
              "      Tumor Size  Regional Node Examined  ...  Progesterone Status_Positive  Status\n",
              "6811          30                       2  ...                             0       1\n",
              "6812          23                      22  ...                             1       1\n",
              "6813          40                      18  ...                             1       1\n",
              "6814          21                      38  ...                             0       1\n",
              "6815          46                      25  ...                             0       1\n",
              "\n",
              "[5 rows x 25 columns]"
            ]
          },
          "metadata": {},
          "execution_count": 32
        }
      ]
    },
    {
      "cell_type": "code",
      "metadata": {
        "id": "eba99bc9"
      },
      "source": [
        "# fpath = '/content/drive/My Drive/Springbaord/capston 2 project/data/bc_data_synthetic.csv'\n",
        "fpath = '../data/bc_data_synthetic.csv'\n",
        "synthetic_data.to_csv(fpath, index=False)"
      ],
      "id": "eba99bc9",
      "execution_count": null,
      "outputs": []
    }
  ]
}